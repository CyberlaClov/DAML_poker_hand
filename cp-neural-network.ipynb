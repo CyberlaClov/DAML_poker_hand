{
 "cells": [
  {
   "cell_type": "code",
   "execution_count": 2,
   "metadata": {},
   "outputs": [],
   "source": [
    "import numpy as np\n",
    "import pandas as pd\n",
    "import matplotlib.pyplot as plt\n",
    "import seaborn as sns\n",
    "import itertools\n",
    "from ucimlrepo import fetch_ucirepo \n",
    "\n",
    "from sklearn.preprocessing import StandardScaler\n",
    "from sklearn.neural_network import MLPClassifier\n",
    "from sklearn.metrics import classification_report, confusion_matrix\n",
    "from sklearn.model_selection import train_test_split\n",
    "from sklearn.model_selection import GridSearchCV\n",
    "\n",
    "from data_transform import linear_transform"
   ]
  },
  {
   "cell_type": "code",
   "execution_count": 3,
   "metadata": {},
   "outputs": [
    {
     "name": "stdout",
     "output_type": "stream",
     "text": [
      "{'uci_id': 158, 'name': 'Poker Hand', 'repository_url': 'https://archive.ics.uci.edu/dataset/158/poker+hand', 'data_url': 'https://archive.ics.uci.edu/static/public/158/data.csv', 'abstract': 'Purpose is to predict poker hands', 'area': 'Games', 'tasks': ['Classification'], 'characteristics': ['Multivariate'], 'num_instances': 1025010, 'num_features': 10, 'feature_types': ['Categorical', 'Integer'], 'demographics': [], 'target_col': ['CLASS'], 'index_col': None, 'has_missing_values': 'no', 'missing_values_symbol': None, 'year_of_dataset_creation': 2002, 'last_updated': 'Sat Mar 09 2024', 'dataset_doi': '10.24432/C5KW38', 'creators': ['Robert Cattral', 'Franz Oppacher'], 'intro_paper': None, 'additional_info': {'summary': 'Each record is an example of a hand consisting of five playing cards drawn from a standard deck of 52. Each card is described using two attributes (suit and rank), for a total of 10 predictive attributes. There is one Class attribute that describes the \"Poker Hand\". The order of cards is important, which is why there are 480 possible Royal Flush hands as compared to 4 (one for each suit - explained in ftp://ftp.ics.uci.edu/pub/machine-learning-databases/poker/poker-hand.names).', 'purpose': None, 'funded_by': None, 'instances_represent': None, 'recommended_data_splits': None, 'sensitive_data': None, 'preprocessing_description': None, 'variable_info': '1) S1 \"Suit of card #1\"\\r\\n    Ordinal (1-4) representing {Hearts, Spades, Diamonds, Clubs}\\r\\n\\r\\n2) C1 \"Rank of card #1\"\\r\\n    Numerical (1-13) representing (Ace, 2, 3, ... , Queen, King)\\r\\n\\r\\n3) S2 \"Suit of card #2\"\\r\\n    Ordinal (1-4) representing {Hearts, Spades, Diamonds, Clubs}\\r\\n\\r\\n4) C2 \"Rank of card #2\"\\r\\n    Numerical (1-13) representing (Ace, 2, 3, ... , Queen, King)\\r\\n\\r\\n5) S3 \"Suit of card #3\"\\r\\n    Ordinal (1-4) representing {Hearts, Spades, Diamonds, Clubs}\\r\\n\\r\\n6) C3 \"Rank of card #3\"\\r\\n    Numerical (1-13) representing (Ace, 2, 3, ... , Queen, King)\\r\\n\\r\\n7) S4 \"Suit of card #4\"\\r\\n    Ordinal (1-4) representing {Hearts, Spades, Diamonds, Clubs}\\r\\n\\r\\n8) C4 \"Rank of card #4\"\\r\\n    Numerical (1-13) representing (Ace, 2, 3, ... , Queen, King)\\r\\n\\r\\n9) S5 \"Suit of card #5\"\\r\\n    Ordinal (1-4) representing {Hearts, Spades, Diamonds, Clubs}\\r\\n\\r\\n10) C5 \"Rank of card 5\"\\r\\n    Numerical (1-13) representing (Ace, 2, 3, ... , Queen, King)\\r\\n\\r\\n11) CLASS \"Poker Hand\"\\r\\n    Ordinal (0-9)\\r\\n\\r\\n    0: Nothing in hand; not a recognized poker hand \\r\\n    1: One pair; one pair of equal ranks within five cards\\r\\n    2: Two pairs; two pairs of equal ranks within five cards\\r\\n    3: Three of a kind; three equal ranks within five cards\\r\\n    4: Straight; five cards, sequentially ranked with no gaps\\r\\n    5: Flush; five cards with the same suit\\r\\n    6: Full house; pair + different rank three of a kind\\r\\n    7: Four of a kind; four equal ranks within five cards\\r\\n    8: Straight flush; straight + flush\\r\\n    9: Royal flush; {Ace, King, Queen, Jack, Ten} + flush\\r\\n', 'citation': None}}\n",
      "     name     role     type demographic description units missing_values\n",
      "0      S1  Feature  Integer        None        None  None             no\n",
      "1      C1  Feature  Integer        None        None  None             no\n",
      "2      S2  Feature  Integer        None        None  None             no\n",
      "3      C2  Feature  Integer        None        None  None             no\n",
      "4      S3  Feature  Integer        None        None  None             no\n",
      "5      C3  Feature  Integer        None        None  None             no\n",
      "6      S4  Feature  Integer        None        None  None             no\n",
      "7      C4  Feature  Integer        None        None  None             no\n",
      "8      S5  Feature  Integer        None        None  None             no\n",
      "9      C5  Feature  Integer        None        None  None             no\n",
      "10  CLASS   Target  Integer        None        None  None             no\n"
     ]
    }
   ],
   "source": [
    "# fetch dataset \n",
    "poker_hand = fetch_ucirepo(id=158) \n",
    "  \n",
    "# data (as pandas dataframes) \n",
    "X = poker_hand.data.features \n",
    "y = poker_hand.data.targets \n",
    "  \n",
    "# metadata \n",
    "print(poker_hand.metadata) \n",
    "  \n",
    "# variable information \n",
    "print(poker_hand.variables)\n",
    "\n",
    "# Define class names for evaluation report\n",
    "class_names = {\n",
    "    0: \"Nothing in hand\",\n",
    "    1: \"One pair\",\n",
    "    2: \"Two pairs\",\n",
    "    3: \"Three of a kind\",\n",
    "    4: \"Straight\",\n",
    "    5: \"Flush\",\n",
    "    6: \"Full house\",\n",
    "    7: \"Four of a kind\",\n",
    "    8: \"Straight flush\",\n",
    "    9: \"Royal flush\"\n",
    "}\n"
   ]
  },
  {
   "cell_type": "markdown",
   "metadata": {},
   "source": [
    "### Prétraitement des données\n",
    "\n",
    "---\n",
    "\n",
    "- **Séparation en training, validation et test** : on sépare la donnée entre le jeu d'entraînement, de validation et d'évaluation finale\n",
    "\n",
    "- **Normalisation** : Cruciale pour mettre toutes les caractéristiques sur une échelle commune. On utilisera pour cela la classe `StandardScaler` de sklearn\n",
    "\n",
    "- **Distribution des classes** : Il est nécessaire que les classes soient identiquement distribuées afin que le modèle dispose de suffisament de données d'entraînement pour chaque classe"
   ]
  },
  {
   "cell_type": "code",
   "execution_count": 4,
   "metadata": {},
   "outputs": [],
   "source": [
    "# split between train and test\n",
    "X_train, X_test, y_train, y_test = train_test_split(X, y, test_size=0.2, random_state=42)\n",
    "\n",
    "# split between train and validation\n",
    "X_train, X_val, y_train, y_val = train_test_split(X_train, y_train, test_size=0.2, random_state=42)\n",
    "\n",
    "# scale data\n",
    "scaler = StandardScaler()\n",
    "X_train_scaled = scaler.fit_transform(X_train)\n",
    "X_val_scaled = scaler.transform(X_val)\n",
    "X_test_scaled = scaler.transform(X_test)"
   ]
  },
  {
   "cell_type": "markdown",
   "metadata": {},
   "source": [
    "### Transformation linéaire de la donnée \n",
    "---\n",
    "\n",
    "On essaye ici d'appliquer la transformation linéaire discutée dans l'article [Poker Hand Dataset- A Machine Learning Analysis and a Practical Linear Transformation](#file:Poker%20Hand%20Dataset-%20A%20Machine%20Learning%20Analysis%20and%20a%20Practical%20Linear%20Transformation%20.pdf-context)\n",
    "\n",
    "Cette transformation vise à réduire la dépendance à l'ordre des cartes : \n",
    "- les attributs de 1 à 13 représentent le nombre de cartes de chaque rang, de l'As (1) au Roi (13)\n",
    "- les attributs de 14 à 17 représentent le nombre de cartes de chaque couleur (14 : Coeur, 15 : Pique, 16 : Carreau, 17 : Trèfle)\n",
    "- Le 18ème attribut est inchangé, il s'agit de la classification de la main et c'est l'output qu'on cherche à prédire\n",
    "\n",
    "\n"
   ]
  },
  {
   "cell_type": "code",
   "execution_count": 32,
   "metadata": {},
   "outputs": [],
   "source": [
    "transformed_data = linear_transform(X)"
   ]
  },
  {
   "cell_type": "markdown",
   "metadata": {},
   "source": [
    "### Réseau de neurones \n",
    "\n",
    "---\n",
    "\n",
    "Dans cette partie on utilisera un MLP (multi-layer perceptron) pour classifier les données. On commencera arbitrairement par un MLP à 3 couches (1 output et 2 hidden layers), la couche d'entrée aura 10 neurones car il y a 10 features, celle de sortie aura aussi 10 neurones car il y a 10 classes possibles. Les couches cachées auront chacune 10 neurones.\n",
    "\n",
    "\n",
    "<p style=\"color:red; text-align:center;\">L'entraînement du MLP dans les conditions suivantes peut prendre <u><b>environ 3 minutes</b></u>.</p>\n"
   ]
  },
  {
   "cell_type": "code",
   "execution_count": 4,
   "metadata": {},
   "outputs": [
    {
     "name": "stderr",
     "output_type": "stream",
     "text": [
      "/Users/clovispiedallu/Desktop/DAML_project/.venv/lib/python3.12/site-packages/sklearn/neural_network/_multilayer_perceptron.py:690: ConvergenceWarning: Stochastic Optimizer: Maximum iterations (200) reached and the optimization hasn't converged yet.\n",
      "  warnings.warn(\n"
     ]
    },
    {
     "data": {
      "text/html": [
       "<style>#sk-container-id-1 {\n",
       "  /* Definition of color scheme common for light and dark mode */\n",
       "  --sklearn-color-text: black;\n",
       "  --sklearn-color-line: gray;\n",
       "  /* Definition of color scheme for unfitted estimators */\n",
       "  --sklearn-color-unfitted-level-0: #fff5e6;\n",
       "  --sklearn-color-unfitted-level-1: #f6e4d2;\n",
       "  --sklearn-color-unfitted-level-2: #ffe0b3;\n",
       "  --sklearn-color-unfitted-level-3: chocolate;\n",
       "  /* Definition of color scheme for fitted estimators */\n",
       "  --sklearn-color-fitted-level-0: #f0f8ff;\n",
       "  --sklearn-color-fitted-level-1: #d4ebff;\n",
       "  --sklearn-color-fitted-level-2: #b3dbfd;\n",
       "  --sklearn-color-fitted-level-3: cornflowerblue;\n",
       "\n",
       "  /* Specific color for light theme */\n",
       "  --sklearn-color-text-on-default-background: var(--sg-text-color, var(--theme-code-foreground, var(--jp-content-font-color1, black)));\n",
       "  --sklearn-color-background: var(--sg-background-color, var(--theme-background, var(--jp-layout-color0, white)));\n",
       "  --sklearn-color-border-box: var(--sg-text-color, var(--theme-code-foreground, var(--jp-content-font-color1, black)));\n",
       "  --sklearn-color-icon: #696969;\n",
       "\n",
       "  @media (prefers-color-scheme: dark) {\n",
       "    /* Redefinition of color scheme for dark theme */\n",
       "    --sklearn-color-text-on-default-background: var(--sg-text-color, var(--theme-code-foreground, var(--jp-content-font-color1, white)));\n",
       "    --sklearn-color-background: var(--sg-background-color, var(--theme-background, var(--jp-layout-color0, #111)));\n",
       "    --sklearn-color-border-box: var(--sg-text-color, var(--theme-code-foreground, var(--jp-content-font-color1, white)));\n",
       "    --sklearn-color-icon: #878787;\n",
       "  }\n",
       "}\n",
       "\n",
       "#sk-container-id-1 {\n",
       "  color: var(--sklearn-color-text);\n",
       "}\n",
       "\n",
       "#sk-container-id-1 pre {\n",
       "  padding: 0;\n",
       "}\n",
       "\n",
       "#sk-container-id-1 input.sk-hidden--visually {\n",
       "  border: 0;\n",
       "  clip: rect(1px 1px 1px 1px);\n",
       "  clip: rect(1px, 1px, 1px, 1px);\n",
       "  height: 1px;\n",
       "  margin: -1px;\n",
       "  overflow: hidden;\n",
       "  padding: 0;\n",
       "  position: absolute;\n",
       "  width: 1px;\n",
       "}\n",
       "\n",
       "#sk-container-id-1 div.sk-dashed-wrapped {\n",
       "  border: 1px dashed var(--sklearn-color-line);\n",
       "  margin: 0 0.4em 0.5em 0.4em;\n",
       "  box-sizing: border-box;\n",
       "  padding-bottom: 0.4em;\n",
       "  background-color: var(--sklearn-color-background);\n",
       "}\n",
       "\n",
       "#sk-container-id-1 div.sk-container {\n",
       "  /* jupyter's `normalize.less` sets `[hidden] { display: none; }`\n",
       "     but bootstrap.min.css set `[hidden] { display: none !important; }`\n",
       "     so we also need the `!important` here to be able to override the\n",
       "     default hidden behavior on the sphinx rendered scikit-learn.org.\n",
       "     See: https://github.com/scikit-learn/scikit-learn/issues/21755 */\n",
       "  display: inline-block !important;\n",
       "  position: relative;\n",
       "}\n",
       "\n",
       "#sk-container-id-1 div.sk-text-repr-fallback {\n",
       "  display: none;\n",
       "}\n",
       "\n",
       "div.sk-parallel-item,\n",
       "div.sk-serial,\n",
       "div.sk-item {\n",
       "  /* draw centered vertical line to link estimators */\n",
       "  background-image: linear-gradient(var(--sklearn-color-text-on-default-background), var(--sklearn-color-text-on-default-background));\n",
       "  background-size: 2px 100%;\n",
       "  background-repeat: no-repeat;\n",
       "  background-position: center center;\n",
       "}\n",
       "\n",
       "/* Parallel-specific style estimator block */\n",
       "\n",
       "#sk-container-id-1 div.sk-parallel-item::after {\n",
       "  content: \"\";\n",
       "  width: 100%;\n",
       "  border-bottom: 2px solid var(--sklearn-color-text-on-default-background);\n",
       "  flex-grow: 1;\n",
       "}\n",
       "\n",
       "#sk-container-id-1 div.sk-parallel {\n",
       "  display: flex;\n",
       "  align-items: stretch;\n",
       "  justify-content: center;\n",
       "  background-color: var(--sklearn-color-background);\n",
       "  position: relative;\n",
       "}\n",
       "\n",
       "#sk-container-id-1 div.sk-parallel-item {\n",
       "  display: flex;\n",
       "  flex-direction: column;\n",
       "}\n",
       "\n",
       "#sk-container-id-1 div.sk-parallel-item:first-child::after {\n",
       "  align-self: flex-end;\n",
       "  width: 50%;\n",
       "}\n",
       "\n",
       "#sk-container-id-1 div.sk-parallel-item:last-child::after {\n",
       "  align-self: flex-start;\n",
       "  width: 50%;\n",
       "}\n",
       "\n",
       "#sk-container-id-1 div.sk-parallel-item:only-child::after {\n",
       "  width: 0;\n",
       "}\n",
       "\n",
       "/* Serial-specific style estimator block */\n",
       "\n",
       "#sk-container-id-1 div.sk-serial {\n",
       "  display: flex;\n",
       "  flex-direction: column;\n",
       "  align-items: center;\n",
       "  background-color: var(--sklearn-color-background);\n",
       "  padding-right: 1em;\n",
       "  padding-left: 1em;\n",
       "}\n",
       "\n",
       "\n",
       "/* Toggleable style: style used for estimator/Pipeline/ColumnTransformer box that is\n",
       "clickable and can be expanded/collapsed.\n",
       "- Pipeline and ColumnTransformer use this feature and define the default style\n",
       "- Estimators will overwrite some part of the style using the `sk-estimator` class\n",
       "*/\n",
       "\n",
       "/* Pipeline and ColumnTransformer style (default) */\n",
       "\n",
       "#sk-container-id-1 div.sk-toggleable {\n",
       "  /* Default theme specific background. It is overwritten whether we have a\n",
       "  specific estimator or a Pipeline/ColumnTransformer */\n",
       "  background-color: var(--sklearn-color-background);\n",
       "}\n",
       "\n",
       "/* Toggleable label */\n",
       "#sk-container-id-1 label.sk-toggleable__label {\n",
       "  cursor: pointer;\n",
       "  display: block;\n",
       "  width: 100%;\n",
       "  margin-bottom: 0;\n",
       "  padding: 0.5em;\n",
       "  box-sizing: border-box;\n",
       "  text-align: center;\n",
       "}\n",
       "\n",
       "#sk-container-id-1 label.sk-toggleable__label-arrow:before {\n",
       "  /* Arrow on the left of the label */\n",
       "  content: \"▸\";\n",
       "  float: left;\n",
       "  margin-right: 0.25em;\n",
       "  color: var(--sklearn-color-icon);\n",
       "}\n",
       "\n",
       "#sk-container-id-1 label.sk-toggleable__label-arrow:hover:before {\n",
       "  color: var(--sklearn-color-text);\n",
       "}\n",
       "\n",
       "/* Toggleable content - dropdown */\n",
       "\n",
       "#sk-container-id-1 div.sk-toggleable__content {\n",
       "  max-height: 0;\n",
       "  max-width: 0;\n",
       "  overflow: hidden;\n",
       "  text-align: left;\n",
       "  /* unfitted */\n",
       "  background-color: var(--sklearn-color-unfitted-level-0);\n",
       "}\n",
       "\n",
       "#sk-container-id-1 div.sk-toggleable__content.fitted {\n",
       "  /* fitted */\n",
       "  background-color: var(--sklearn-color-fitted-level-0);\n",
       "}\n",
       "\n",
       "#sk-container-id-1 div.sk-toggleable__content pre {\n",
       "  margin: 0.2em;\n",
       "  border-radius: 0.25em;\n",
       "  color: var(--sklearn-color-text);\n",
       "  /* unfitted */\n",
       "  background-color: var(--sklearn-color-unfitted-level-0);\n",
       "}\n",
       "\n",
       "#sk-container-id-1 div.sk-toggleable__content.fitted pre {\n",
       "  /* unfitted */\n",
       "  background-color: var(--sklearn-color-fitted-level-0);\n",
       "}\n",
       "\n",
       "#sk-container-id-1 input.sk-toggleable__control:checked~div.sk-toggleable__content {\n",
       "  /* Expand drop-down */\n",
       "  max-height: 200px;\n",
       "  max-width: 100%;\n",
       "  overflow: auto;\n",
       "}\n",
       "\n",
       "#sk-container-id-1 input.sk-toggleable__control:checked~label.sk-toggleable__label-arrow:before {\n",
       "  content: \"▾\";\n",
       "}\n",
       "\n",
       "/* Pipeline/ColumnTransformer-specific style */\n",
       "\n",
       "#sk-container-id-1 div.sk-label input.sk-toggleable__control:checked~label.sk-toggleable__label {\n",
       "  color: var(--sklearn-color-text);\n",
       "  background-color: var(--sklearn-color-unfitted-level-2);\n",
       "}\n",
       "\n",
       "#sk-container-id-1 div.sk-label.fitted input.sk-toggleable__control:checked~label.sk-toggleable__label {\n",
       "  background-color: var(--sklearn-color-fitted-level-2);\n",
       "}\n",
       "\n",
       "/* Estimator-specific style */\n",
       "\n",
       "/* Colorize estimator box */\n",
       "#sk-container-id-1 div.sk-estimator input.sk-toggleable__control:checked~label.sk-toggleable__label {\n",
       "  /* unfitted */\n",
       "  background-color: var(--sklearn-color-unfitted-level-2);\n",
       "}\n",
       "\n",
       "#sk-container-id-1 div.sk-estimator.fitted input.sk-toggleable__control:checked~label.sk-toggleable__label {\n",
       "  /* fitted */\n",
       "  background-color: var(--sklearn-color-fitted-level-2);\n",
       "}\n",
       "\n",
       "#sk-container-id-1 div.sk-label label.sk-toggleable__label,\n",
       "#sk-container-id-1 div.sk-label label {\n",
       "  /* The background is the default theme color */\n",
       "  color: var(--sklearn-color-text-on-default-background);\n",
       "}\n",
       "\n",
       "/* On hover, darken the color of the background */\n",
       "#sk-container-id-1 div.sk-label:hover label.sk-toggleable__label {\n",
       "  color: var(--sklearn-color-text);\n",
       "  background-color: var(--sklearn-color-unfitted-level-2);\n",
       "}\n",
       "\n",
       "/* Label box, darken color on hover, fitted */\n",
       "#sk-container-id-1 div.sk-label.fitted:hover label.sk-toggleable__label.fitted {\n",
       "  color: var(--sklearn-color-text);\n",
       "  background-color: var(--sklearn-color-fitted-level-2);\n",
       "}\n",
       "\n",
       "/* Estimator label */\n",
       "\n",
       "#sk-container-id-1 div.sk-label label {\n",
       "  font-family: monospace;\n",
       "  font-weight: bold;\n",
       "  display: inline-block;\n",
       "  line-height: 1.2em;\n",
       "}\n",
       "\n",
       "#sk-container-id-1 div.sk-label-container {\n",
       "  text-align: center;\n",
       "}\n",
       "\n",
       "/* Estimator-specific */\n",
       "#sk-container-id-1 div.sk-estimator {\n",
       "  font-family: monospace;\n",
       "  border: 1px dotted var(--sklearn-color-border-box);\n",
       "  border-radius: 0.25em;\n",
       "  box-sizing: border-box;\n",
       "  margin-bottom: 0.5em;\n",
       "  /* unfitted */\n",
       "  background-color: var(--sklearn-color-unfitted-level-0);\n",
       "}\n",
       "\n",
       "#sk-container-id-1 div.sk-estimator.fitted {\n",
       "  /* fitted */\n",
       "  background-color: var(--sklearn-color-fitted-level-0);\n",
       "}\n",
       "\n",
       "/* on hover */\n",
       "#sk-container-id-1 div.sk-estimator:hover {\n",
       "  /* unfitted */\n",
       "  background-color: var(--sklearn-color-unfitted-level-2);\n",
       "}\n",
       "\n",
       "#sk-container-id-1 div.sk-estimator.fitted:hover {\n",
       "  /* fitted */\n",
       "  background-color: var(--sklearn-color-fitted-level-2);\n",
       "}\n",
       "\n",
       "/* Specification for estimator info (e.g. \"i\" and \"?\") */\n",
       "\n",
       "/* Common style for \"i\" and \"?\" */\n",
       "\n",
       ".sk-estimator-doc-link,\n",
       "a:link.sk-estimator-doc-link,\n",
       "a:visited.sk-estimator-doc-link {\n",
       "  float: right;\n",
       "  font-size: smaller;\n",
       "  line-height: 1em;\n",
       "  font-family: monospace;\n",
       "  background-color: var(--sklearn-color-background);\n",
       "  border-radius: 1em;\n",
       "  height: 1em;\n",
       "  width: 1em;\n",
       "  text-decoration: none !important;\n",
       "  margin-left: 1ex;\n",
       "  /* unfitted */\n",
       "  border: var(--sklearn-color-unfitted-level-1) 1pt solid;\n",
       "  color: var(--sklearn-color-unfitted-level-1);\n",
       "}\n",
       "\n",
       ".sk-estimator-doc-link.fitted,\n",
       "a:link.sk-estimator-doc-link.fitted,\n",
       "a:visited.sk-estimator-doc-link.fitted {\n",
       "  /* fitted */\n",
       "  border: var(--sklearn-color-fitted-level-1) 1pt solid;\n",
       "  color: var(--sklearn-color-fitted-level-1);\n",
       "}\n",
       "\n",
       "/* On hover */\n",
       "div.sk-estimator:hover .sk-estimator-doc-link:hover,\n",
       ".sk-estimator-doc-link:hover,\n",
       "div.sk-label-container:hover .sk-estimator-doc-link:hover,\n",
       ".sk-estimator-doc-link:hover {\n",
       "  /* unfitted */\n",
       "  background-color: var(--sklearn-color-unfitted-level-3);\n",
       "  color: var(--sklearn-color-background);\n",
       "  text-decoration: none;\n",
       "}\n",
       "\n",
       "div.sk-estimator.fitted:hover .sk-estimator-doc-link.fitted:hover,\n",
       ".sk-estimator-doc-link.fitted:hover,\n",
       "div.sk-label-container:hover .sk-estimator-doc-link.fitted:hover,\n",
       ".sk-estimator-doc-link.fitted:hover {\n",
       "  /* fitted */\n",
       "  background-color: var(--sklearn-color-fitted-level-3);\n",
       "  color: var(--sklearn-color-background);\n",
       "  text-decoration: none;\n",
       "}\n",
       "\n",
       "/* Span, style for the box shown on hovering the info icon */\n",
       ".sk-estimator-doc-link span {\n",
       "  display: none;\n",
       "  z-index: 9999;\n",
       "  position: relative;\n",
       "  font-weight: normal;\n",
       "  right: .2ex;\n",
       "  padding: .5ex;\n",
       "  margin: .5ex;\n",
       "  width: min-content;\n",
       "  min-width: 20ex;\n",
       "  max-width: 50ex;\n",
       "  color: var(--sklearn-color-text);\n",
       "  box-shadow: 2pt 2pt 4pt #999;\n",
       "  /* unfitted */\n",
       "  background: var(--sklearn-color-unfitted-level-0);\n",
       "  border: .5pt solid var(--sklearn-color-unfitted-level-3);\n",
       "}\n",
       "\n",
       ".sk-estimator-doc-link.fitted span {\n",
       "  /* fitted */\n",
       "  background: var(--sklearn-color-fitted-level-0);\n",
       "  border: var(--sklearn-color-fitted-level-3);\n",
       "}\n",
       "\n",
       ".sk-estimator-doc-link:hover span {\n",
       "  display: block;\n",
       "}\n",
       "\n",
       "/* \"?\"-specific style due to the `<a>` HTML tag */\n",
       "\n",
       "#sk-container-id-1 a.estimator_doc_link {\n",
       "  float: right;\n",
       "  font-size: 1rem;\n",
       "  line-height: 1em;\n",
       "  font-family: monospace;\n",
       "  background-color: var(--sklearn-color-background);\n",
       "  border-radius: 1rem;\n",
       "  height: 1rem;\n",
       "  width: 1rem;\n",
       "  text-decoration: none;\n",
       "  /* unfitted */\n",
       "  color: var(--sklearn-color-unfitted-level-1);\n",
       "  border: var(--sklearn-color-unfitted-level-1) 1pt solid;\n",
       "}\n",
       "\n",
       "#sk-container-id-1 a.estimator_doc_link.fitted {\n",
       "  /* fitted */\n",
       "  border: var(--sklearn-color-fitted-level-1) 1pt solid;\n",
       "  color: var(--sklearn-color-fitted-level-1);\n",
       "}\n",
       "\n",
       "/* On hover */\n",
       "#sk-container-id-1 a.estimator_doc_link:hover {\n",
       "  /* unfitted */\n",
       "  background-color: var(--sklearn-color-unfitted-level-3);\n",
       "  color: var(--sklearn-color-background);\n",
       "  text-decoration: none;\n",
       "}\n",
       "\n",
       "#sk-container-id-1 a.estimator_doc_link.fitted:hover {\n",
       "  /* fitted */\n",
       "  background-color: var(--sklearn-color-fitted-level-3);\n",
       "}\n",
       "</style><div id=\"sk-container-id-1\" class=\"sk-top-container\"><div class=\"sk-text-repr-fallback\"><pre>MLPClassifier(hidden_layer_sizes=(10, 10), random_state=42)</pre><b>In a Jupyter environment, please rerun this cell to show the HTML representation or trust the notebook. <br />On GitHub, the HTML representation is unable to render, please try loading this page with nbviewer.org.</b></div><div class=\"sk-container\" hidden><div class=\"sk-item\"><div class=\"sk-estimator fitted sk-toggleable\"><input class=\"sk-toggleable__control sk-hidden--visually\" id=\"sk-estimator-id-1\" type=\"checkbox\" checked><label for=\"sk-estimator-id-1\" class=\"sk-toggleable__label fitted sk-toggleable__label-arrow fitted\">&nbsp;&nbsp;MLPClassifier<a class=\"sk-estimator-doc-link fitted\" rel=\"noreferrer\" target=\"_blank\" href=\"https://scikit-learn.org/1.5/modules/generated/sklearn.neural_network.MLPClassifier.html\">?<span>Documentation for MLPClassifier</span></a><span class=\"sk-estimator-doc-link fitted\">i<span>Fitted</span></span></label><div class=\"sk-toggleable__content fitted\"><pre>MLPClassifier(hidden_layer_sizes=(10, 10), random_state=42)</pre></div> </div></div></div></div>"
      ],
      "text/plain": [
       "MLPClassifier(hidden_layer_sizes=(10, 10), random_state=42)"
      ]
     },
     "execution_count": 4,
     "metadata": {},
     "output_type": "execute_result"
    }
   ],
   "source": [
    "\n",
    "# Define the MLPClassifier model\n",
    "mlp = MLPClassifier(hidden_layer_sizes=(10, 10), activation=\"relu\", solver='adam', random_state=42)\n",
    "\n",
    "# Train the model\n",
    "mlp.fit(X_train_scaled, y_train.values.ravel())\n"
   ]
  },
  {
   "cell_type": "markdown",
   "metadata": {},
   "source": [
    "### Évaluation du modèle"
   ]
  },
  {
   "cell_type": "code",
   "execution_count": 5,
   "metadata": {},
   "outputs": [
    {
     "name": "stdout",
     "output_type": "stream",
     "text": [
      "Classification Report:\n",
      "                 precision    recall  f1-score   support\n",
      "\n",
      "Nothing in hand       0.71      0.83      0.77     82510\n",
      "       One pair       0.66      0.62      0.64     69121\n",
      "      Two pairs       0.31      0.03      0.06      7799\n",
      "Three of a kind       0.43      0.12      0.19      3338\n",
      "       Straight       0.00      0.00      0.00       620\n",
      "          Flush       1.00      0.00      0.00       342\n",
      "     Full house       0.25      0.00      0.01       235\n",
      " Four of a kind       1.00      0.18      0.30        34\n",
      " Straight flush       1.00      0.00      0.00         1\n",
      "    Royal flush       1.00      0.00      0.00         2\n",
      "\n",
      "       accuracy                           0.69    164002\n",
      "      macro avg       0.64      0.18      0.20    164002\n",
      "   weighted avg       0.66      0.69      0.66    164002\n",
      "\n"
     ]
    },
    {
     "data": {
      "image/png": "[encoded data removed]",
      "text/plain": [
       "<Figure size 1000x700 with 2 Axes>"
      ]
     },
     "metadata": {},
     "output_type": "display_data"
    }
   ],
   "source": [
    "# Predict on the test set\n",
    "y_test_pred = mlp.predict(X_val_scaled)\n",
    "\n",
    "# Generate classification report\n",
    "report = classification_report(y_val, y_test_pred, target_names=list(class_names.values()), zero_division=1)\n",
    "print(f'Classification Report:\\n{report}')\n",
    "\n",
    "# Generate confusion matrix\n",
    "conf_matrix = confusion_matrix(y_val, y_test_pred)\n",
    "\n",
    "# Plot confusion matrix\n",
    "plt.figure(figsize=(10, 7))\n",
    "sns.heatmap(conf_matrix, annot=True, fmt='d', cmap='Blues', xticklabels=list(class_names.values()), yticklabels=list(class_names.values()))\n",
    "plt.xlabel('Predicted')\n",
    "plt.ylabel('Actual')\n",
    "plt.title('Confusion Matrix')\n",
    "plt.show()"
   ]
  },
  {
   "cell_type": "markdown",
   "metadata": {
    "vscode": {
     "languageId": "markdown"
    }
   },
   "source": [
    "### Remarques\n",
    "Notre premier modèle semble peu robuste. En effet, on obtient un `f1-score=0.2` (en macro, donc sans avantager les classes dominantes).\n"
   ]
  },
  {
   "cell_type": "markdown",
   "metadata": {
    "vscode": {
     "languageId": "markdown"
    }
   },
   "source": [
    "### Fine-tuning des hyperparamètres\n",
    "\n",
    "Essayons de modifier les hyperparamètres de notre réseau de neurones à l'aide d'une recherche de type `GridSearch`. Nous allons en particulier nous intéresser aux paramètres suivants :\n",
    "\n",
    "- taille du réseau (topologie)\n",
    "- régularisation L2 (paramètre `alpha`)\n",
    "- taux d'apprentissage (paramètre `learning_rate`)\n",
    "\n",
    "Par ailleurs nous utiliserons la cross-validation (3 folds) pour éviter l'overfitting\n",
    "\n",
    "\n",
    "<p style=\"color:red; text-align:center;\">L'exécution de cette cellule peut prendre <u><b>environ une heure</b></u>.</p>\n"
   ]
  },
  {
   "cell_type": "code",
   "execution_count": 6,
   "metadata": {},
   "outputs": [
    {
     "name": "stdout",
     "output_type": "stream",
     "text": [
      "Fitting 3 folds for each of 80 candidates, totalling 240 fits\n"
     ]
    },
    {
     "name": "stderr",
     "output_type": "stream",
     "text": [
      "/Users/clovispiedallu/Desktop/DAML_project/.venv/lib/python3.12/site-packages/sklearn/neural_network/_multilayer_perceptron.py:690: ConvergenceWarning: Stochastic Optimizer: Maximum iterations (100) reached and the optimization hasn't converged yet.\n",
      "  warnings.warn(\n"
     ]
    },
    {
     "name": "stdout",
     "output_type": "stream",
     "text": [
      "[CV] END alpha=1e-06, hidden_layer_sizes=100, learning_rate_init=0.01; total time= 1.6min\n"
     ]
    },
    {
     "name": "stderr",
     "output_type": "stream",
     "text": [
      "/Users/clovispiedallu/Desktop/DAML_project/.venv/lib/python3.12/site-packages/sklearn/neural_network/_multilayer_perceptron.py:690: ConvergenceWarning: Stochastic Optimizer: Maximum iterations (100) reached and the optimization hasn't converged yet.\n",
      "  warnings.warn(\n"
     ]
    },
    {
     "name": "stdout",
     "output_type": "stream",
     "text": [
      "[CV] END alpha=1e-06, hidden_layer_sizes=100, learning_rate_init=0.01; total time= 1.6min\n"
     ]
    },
    {
     "name": "stderr",
     "output_type": "stream",
     "text": [
      "/Users/clovispiedallu/Desktop/DAML_project/.venv/lib/python3.12/site-packages/sklearn/neural_network/_multilayer_perceptron.py:690: ConvergenceWarning: Stochastic Optimizer: Maximum iterations (100) reached and the optimization hasn't converged yet.\n",
      "  warnings.warn(\n",
      "/Users/clovispiedallu/Desktop/DAML_project/.venv/lib/python3.12/site-packages/sklearn/neural_network/_multilayer_perceptron.py:690: ConvergenceWarning: Stochastic Optimizer: Maximum iterations (100) reached and the optimization hasn't converged yet.\n",
      "  warnings.warn(\n",
      "/Users/clovispiedallu/Desktop/DAML_project/.venv/lib/python3.12/site-packages/sklearn/neural_network/_multilayer_perceptron.py:690: ConvergenceWarning: Stochastic Optimizer: Maximum iterations (100) reached and the optimization hasn't converged yet.\n",
      "  warnings.warn(\n"
     ]
    },
    {
     "name": "stdout",
     "output_type": "stream",
     "text": [
      "[CV] END alpha=1e-06, hidden_layer_sizes=100, learning_rate_init=0.0001; total time= 1.8min\n",
      "[CV] END alpha=1e-06, hidden_layer_sizes=100, learning_rate_init=0.001; total time= 1.8min\n",
      "[CV] END alpha=1e-06, hidden_layer_sizes=100, learning_rate_init=0.0001; total time= 1.8min\n"
     ]
    },
    {
     "name": "stderr",
     "output_type": "stream",
     "text": [
      "/Users/clovispiedallu/Desktop/DAML_project/.venv/lib/python3.12/site-packages/sklearn/neural_network/_multilayer_perceptron.py:690: ConvergenceWarning: Stochastic Optimizer: Maximum iterations (100) reached and the optimization hasn't converged yet.\n",
      "  warnings.warn(\n",
      "/Users/clovispiedallu/Desktop/DAML_project/.venv/lib/python3.12/site-packages/sklearn/neural_network/_multilayer_perceptron.py:690: ConvergenceWarning: Stochastic Optimizer: Maximum iterations (100) reached and the optimization hasn't converged yet.\n",
      "  warnings.warn(\n"
     ]
    },
    {
     "name": "stdout",
     "output_type": "stream",
     "text": [
      "[CV] END alpha=1e-06, hidden_layer_sizes=100, learning_rate_init=0.001; total time= 1.8min\n",
      "[CV] END alpha=1e-06, hidden_layer_sizes=100, learning_rate_init=0.0001; total time= 1.8min\n",
      "[CV] END alpha=1e-06, hidden_layer_sizes=100, learning_rate_init=0.1; total time=  12.1s\n"
     ]
    },
    {
     "name": "stderr",
     "output_type": "stream",
     "text": [
      "/Users/clovispiedallu/Desktop/DAML_project/.venv/lib/python3.12/site-packages/sklearn/neural_network/_multilayer_perceptron.py:690: ConvergenceWarning: Stochastic Optimizer: Maximum iterations (100) reached and the optimization hasn't converged yet.\n",
      "  warnings.warn(\n"
     ]
    },
    {
     "name": "stdout",
     "output_type": "stream",
     "text": [
      "[CV] END alpha=1e-06, hidden_layer_sizes=100, learning_rate_init=0.001; total time= 1.8min\n",
      "[CV] END alpha=1e-06, hidden_layer_sizes=100, learning_rate_init=0.1; total time=  12.5s\n",
      "[CV] END alpha=1e-06, hidden_layer_sizes=100, learning_rate_init=0.1; total time=  16.3s\n"
     ]
    },
    {
     "name": "stderr",
     "output_type": "stream",
     "text": [
      "/Users/clovispiedallu/Desktop/DAML_project/.venv/lib/python3.12/site-packages/sklearn/neural_network/_multilayer_perceptron.py:690: ConvergenceWarning: Stochastic Optimizer: Maximum iterations (100) reached and the optimization hasn't converged yet.\n",
      "  warnings.warn(\n"
     ]
    },
    {
     "name": "stdout",
     "output_type": "stream",
     "text": [
      "[CV] END alpha=1e-06, hidden_layer_sizes=(10, 10), learning_rate_init=0.0001; total time= 1.2min\n"
     ]
    },
    {
     "name": "stderr",
     "output_type": "stream",
     "text": [
      "/Users/clovispiedallu/Desktop/DAML_project/.venv/lib/python3.12/site-packages/sklearn/neural_network/_multilayer_perceptron.py:690: ConvergenceWarning: Stochastic Optimizer: Maximum iterations (100) reached and the optimization hasn't converged yet.\n",
      "  warnings.warn(\n"
     ]
    },
    {
     "name": "stdout",
     "output_type": "stream",
     "text": [
      "[CV] END alpha=1e-06, hidden_layer_sizes=(10, 10), learning_rate_init=0.0001; total time= 1.2min\n"
     ]
    },
    {
     "name": "stderr",
     "output_type": "stream",
     "text": [
      "/Users/clovispiedallu/Desktop/DAML_project/.venv/lib/python3.12/site-packages/sklearn/neural_network/_multilayer_perceptron.py:690: ConvergenceWarning: Stochastic Optimizer: Maximum iterations (100) reached and the optimization hasn't converged yet.\n",
      "  warnings.warn(\n",
      "/Users/clovispiedallu/Desktop/DAML_project/.venv/lib/python3.12/site-packages/sklearn/neural_network/_multilayer_perceptron.py:690: ConvergenceWarning: Stochastic Optimizer: Maximum iterations (100) reached and the optimization hasn't converged yet.\n",
      "  warnings.warn(\n"
     ]
    },
    {
     "name": "stdout",
     "output_type": "stream",
     "text": [
      "[CV] END alpha=1e-06, hidden_layer_sizes=(10, 10), learning_rate_init=0.0001; total time= 1.2min\n",
      "[CV] END alpha=1e-06, hidden_layer_sizes=(10, 10), learning_rate_init=0.001; total time= 1.2min\n"
     ]
    },
    {
     "name": "stderr",
     "output_type": "stream",
     "text": [
      "/Users/clovispiedallu/Desktop/DAML_project/.venv/lib/python3.12/site-packages/sklearn/neural_network/_multilayer_perceptron.py:690: ConvergenceWarning: Stochastic Optimizer: Maximum iterations (100) reached and the optimization hasn't converged yet.\n",
      "  warnings.warn(\n"
     ]
    },
    {
     "name": "stdout",
     "output_type": "stream",
     "text": [
      "[CV] END alpha=1e-06, hidden_layer_sizes=(10, 10), learning_rate_init=0.001; total time= 1.2min\n",
      "[CV] END alpha=1e-06, hidden_layer_sizes=(10, 10), learning_rate_init=0.01; total time=  59.6s\n",
      "[CV] END alpha=1e-06, hidden_layer_sizes=(10, 10), learning_rate_init=0.1; total time=   9.2s\n",
      "[CV] END alpha=1e-06, hidden_layer_sizes=(10, 10), learning_rate_init=0.1; total time=   9.3s\n",
      "[CV] END alpha=1e-06, hidden_layer_sizes=(10, 10), learning_rate_init=0.1; total time=   8.7s\n"
     ]
    },
    {
     "name": "stderr",
     "output_type": "stream",
     "text": [
      "/Users/clovispiedallu/Desktop/DAML_project/.venv/lib/python3.12/site-packages/sklearn/neural_network/_multilayer_perceptron.py:690: ConvergenceWarning: Stochastic Optimizer: Maximum iterations (100) reached and the optimization hasn't converged yet.\n",
      "  warnings.warn(\n"
     ]
    },
    {
     "name": "stdout",
     "output_type": "stream",
     "text": [
      "[CV] END alpha=1e-06, hidden_layer_sizes=(10, 10), learning_rate_init=0.001; total time= 1.2min\n"
     ]
    },
    {
     "name": "stderr",
     "output_type": "stream",
     "text": [
      "/Users/clovispiedallu/Desktop/DAML_project/.venv/lib/python3.12/site-packages/sklearn/neural_network/_multilayer_perceptron.py:690: ConvergenceWarning: Stochastic Optimizer: Maximum iterations (100) reached and the optimization hasn't converged yet.\n",
      "  warnings.warn(\n"
     ]
    },
    {
     "name": "stdout",
     "output_type": "stream",
     "text": [
      "[CV] END alpha=1e-06, hidden_layer_sizes=100, learning_rate_init=0.01; total time= 1.7min\n",
      "[CV] END alpha=1e-06, hidden_layer_sizes=(10, 10), learning_rate_init=0.01; total time=  41.1s\n",
      "[CV] END alpha=1e-06, hidden_layer_sizes=(10, 10), learning_rate_init=0.01; total time= 1.0min\n",
      "[CV] END alpha=1e-06, hidden_layer_sizes=(100, 100), learning_rate_init=0.01; total time= 1.0min\n",
      "[CV] END alpha=1e-06, hidden_layer_sizes=(100, 100), learning_rate_init=0.001; total time= 1.7min\n",
      "[CV] END alpha=1e-06, hidden_layer_sizes=(100, 100), learning_rate_init=0.001; total time= 1.9min\n",
      "[CV] END alpha=1e-06, hidden_layer_sizes=(100, 100), learning_rate_init=0.01; total time= 1.2min\n",
      "[CV] END alpha=1e-06, hidden_layer_sizes=(100, 100), learning_rate_init=0.1; total time=  26.4s\n",
      "[CV] END alpha=1e-06, hidden_layer_sizes=(100, 100), learning_rate_init=0.001; total time= 2.1min\n",
      "[CV] END alpha=1e-06, hidden_layer_sizes=(100, 100), learning_rate_init=0.1; total time=  30.9s\n",
      "[CV] END alpha=1e-06, hidden_layer_sizes=(100, 100), learning_rate_init=0.1; total time=  38.4s\n",
      "[CV] END alpha=1e-06, hidden_layer_sizes=(100, 100), learning_rate_init=0.01; total time= 1.4min\n"
     ]
    },
    {
     "name": "stderr",
     "output_type": "stream",
     "text": [
      "/Users/clovispiedallu/Desktop/DAML_project/.venv/lib/python3.12/site-packages/sklearn/neural_network/_multilayer_perceptron.py:690: ConvergenceWarning: Stochastic Optimizer: Maximum iterations (100) reached and the optimization hasn't converged yet.\n",
      "  warnings.warn(\n"
     ]
    },
    {
     "name": "stdout",
     "output_type": "stream",
     "text": [
      "[CV] END alpha=1e-06, hidden_layer_sizes=(100, 100), learning_rate_init=0.0001; total time= 4.1min\n"
     ]
    },
    {
     "name": "stderr",
     "output_type": "stream",
     "text": [
      "/Users/clovispiedallu/Desktop/DAML_project/.venv/lib/python3.12/site-packages/sklearn/neural_network/_multilayer_perceptron.py:690: ConvergenceWarning: Stochastic Optimizer: Maximum iterations (100) reached and the optimization hasn't converged yet.\n",
      "  warnings.warn(\n"
     ]
    },
    {
     "name": "stdout",
     "output_type": "stream",
     "text": [
      "[CV] END alpha=1e-06, hidden_layer_sizes=(100, 100), learning_rate_init=0.0001; total time= 4.2min\n"
     ]
    },
    {
     "name": "stderr",
     "output_type": "stream",
     "text": [
      "/Users/clovispiedallu/Desktop/DAML_project/.venv/lib/python3.12/site-packages/sklearn/neural_network/_multilayer_perceptron.py:690: ConvergenceWarning: Stochastic Optimizer: Maximum iterations (100) reached and the optimization hasn't converged yet.\n",
      "  warnings.warn(\n"
     ]
    },
    {
     "name": "stdout",
     "output_type": "stream",
     "text": [
      "[CV] END alpha=1e-06, hidden_layer_sizes=(100, 100), learning_rate_init=0.0001; total time= 4.2min\n",
      "[CV] END alpha=1e-06, hidden_layer_sizes=(100, 100, 100), learning_rate_init=0.001; total time= 2.0min\n",
      "[CV] END alpha=1e-06, hidden_layer_sizes=(100, 100, 100), learning_rate_init=0.01; total time=  52.5s\n",
      "[CV] END alpha=1e-06, hidden_layer_sizes=(100, 100, 100), learning_rate_init=0.001; total time= 2.5min\n",
      "[CV] END alpha=1e-06, hidden_layer_sizes=(100, 100, 100), learning_rate_init=0.01; total time= 1.6min\n",
      "[CV] END alpha=1e-06, hidden_layer_sizes=(100, 100, 100), learning_rate_init=0.1; total time=  42.4s\n",
      "[CV] END alpha=1e-06, hidden_layer_sizes=(100, 100, 100), learning_rate_init=0.01; total time= 1.2min\n",
      "[CV] END alpha=1e-06, hidden_layer_sizes=(100, 100, 100), learning_rate_init=0.1; total time=  51.4s\n",
      "[CV] END alpha=1e-06, hidden_layer_sizes=(100, 100, 100), learning_rate_init=0.1; total time=  45.6s\n",
      "[CV] END alpha=1e-06, hidden_layer_sizes=(100, 100, 100), learning_rate_init=0.001; total time= 2.6min\n"
     ]
    },
    {
     "name": "stderr",
     "output_type": "stream",
     "text": [
      "/Users/clovispiedallu/Desktop/DAML_project/.venv/lib/python3.12/site-packages/sklearn/neural_network/_multilayer_perceptron.py:690: ConvergenceWarning: Stochastic Optimizer: Maximum iterations (100) reached and the optimization hasn't converged yet.\n",
      "  warnings.warn(\n"
     ]
    },
    {
     "name": "stdout",
     "output_type": "stream",
     "text": [
      "[CV] END alpha=1e-05, hidden_layer_sizes=100, learning_rate_init=0.0001; total time= 2.0min\n"
     ]
    },
    {
     "name": "stderr",
     "output_type": "stream",
     "text": [
      "/Users/clovispiedallu/Desktop/DAML_project/.venv/lib/python3.12/site-packages/sklearn/neural_network/_multilayer_perceptron.py:690: ConvergenceWarning: Stochastic Optimizer: Maximum iterations (100) reached and the optimization hasn't converged yet.\n",
      "  warnings.warn(\n"
     ]
    },
    {
     "name": "stdout",
     "output_type": "stream",
     "text": [
      "[CV] END alpha=1e-05, hidden_layer_sizes=100, learning_rate_init=0.0001; total time= 2.0min\n"
     ]
    },
    {
     "name": "stderr",
     "output_type": "stream",
     "text": [
      "/Users/clovispiedallu/Desktop/DAML_project/.venv/lib/python3.12/site-packages/sklearn/neural_network/_multilayer_perceptron.py:690: ConvergenceWarning: Stochastic Optimizer: Maximum iterations (100) reached and the optimization hasn't converged yet.\n",
      "  warnings.warn(\n"
     ]
    },
    {
     "name": "stdout",
     "output_type": "stream",
     "text": [
      "[CV] END alpha=1e-06, hidden_layer_sizes=(100, 100, 100), learning_rate_init=0.0001; total time= 6.0min\n"
     ]
    },
    {
     "name": "stderr",
     "output_type": "stream",
     "text": [
      "/Users/clovispiedallu/Desktop/DAML_project/.venv/lib/python3.12/site-packages/sklearn/neural_network/_multilayer_perceptron.py:690: ConvergenceWarning: Stochastic Optimizer: Maximum iterations (100) reached and the optimization hasn't converged yet.\n",
      "  warnings.warn(\n"
     ]
    },
    {
     "name": "stdout",
     "output_type": "stream",
     "text": [
      "[CV] END alpha=1e-06, hidden_layer_sizes=(100, 100, 100), learning_rate_init=0.0001; total time= 6.1min\n"
     ]
    },
    {
     "name": "stderr",
     "output_type": "stream",
     "text": [
      "/Users/clovispiedallu/Desktop/DAML_project/.venv/lib/python3.12/site-packages/sklearn/neural_network/_multilayer_perceptron.py:690: ConvergenceWarning: Stochastic Optimizer: Maximum iterations (100) reached and the optimization hasn't converged yet.\n",
      "  warnings.warn(\n"
     ]
    },
    {
     "name": "stdout",
     "output_type": "stream",
     "text": [
      "[CV] END alpha=1e-05, hidden_layer_sizes=100, learning_rate_init=0.0001; total time= 2.1min\n"
     ]
    },
    {
     "name": "stderr",
     "output_type": "stream",
     "text": [
      "/Users/clovispiedallu/Desktop/DAML_project/.venv/lib/python3.12/site-packages/sklearn/neural_network/_multilayer_perceptron.py:690: ConvergenceWarning: Stochastic Optimizer: Maximum iterations (100) reached and the optimization hasn't converged yet.\n",
      "  warnings.warn(\n",
      "/Users/clovispiedallu/Desktop/DAML_project/.venv/lib/python3.12/site-packages/sklearn/neural_network/_multilayer_perceptron.py:690: ConvergenceWarning: Stochastic Optimizer: Maximum iterations (100) reached and the optimization hasn't converged yet.\n",
      "  warnings.warn(\n"
     ]
    },
    {
     "name": "stdout",
     "output_type": "stream",
     "text": [
      "[CV] END alpha=1e-05, hidden_layer_sizes=100, learning_rate_init=0.001; total time= 2.1min\n",
      "[CV] END alpha=1e-06, hidden_layer_sizes=(100, 100, 100), learning_rate_init=0.0001; total time= 6.0min\n",
      "[CV] END alpha=1e-05, hidden_layer_sizes=100, learning_rate_init=0.1; total time=  13.5s\n"
     ]
    },
    {
     "name": "stderr",
     "output_type": "stream",
     "text": [
      "/Users/clovispiedallu/Desktop/DAML_project/.venv/lib/python3.12/site-packages/sklearn/neural_network/_multilayer_perceptron.py:690: ConvergenceWarning: Stochastic Optimizer: Maximum iterations (100) reached and the optimization hasn't converged yet.\n",
      "  warnings.warn(\n"
     ]
    },
    {
     "name": "stdout",
     "output_type": "stream",
     "text": [
      "[CV] END alpha=1e-05, hidden_layer_sizes=100, learning_rate_init=0.001; total time= 2.1min\n",
      "[CV] END alpha=1e-05, hidden_layer_sizes=100, learning_rate_init=0.1; total time=  19.3s\n",
      "[CV] END alpha=1e-05, hidden_layer_sizes=100, learning_rate_init=0.1; total time=  31.4s\n",
      "[CV] END alpha=1e-05, hidden_layer_sizes=100, learning_rate_init=0.01; total time= 1.6min\n",
      "[CV] END alpha=1e-05, hidden_layer_sizes=100, learning_rate_init=0.01; total time= 1.6min\n"
     ]
    },
    {
     "name": "stderr",
     "output_type": "stream",
     "text": [
      "/Users/clovispiedallu/Desktop/DAML_project/.venv/lib/python3.12/site-packages/sklearn/neural_network/_multilayer_perceptron.py:690: ConvergenceWarning: Stochastic Optimizer: Maximum iterations (100) reached and the optimization hasn't converged yet.\n",
      "  warnings.warn(\n"
     ]
    },
    {
     "name": "stdout",
     "output_type": "stream",
     "text": [
      "[CV] END alpha=1e-05, hidden_layer_sizes=100, learning_rate_init=0.001; total time= 2.0min\n"
     ]
    },
    {
     "name": "stderr",
     "output_type": "stream",
     "text": [
      "/Users/clovispiedallu/Desktop/DAML_project/.venv/lib/python3.12/site-packages/sklearn/neural_network/_multilayer_perceptron.py:690: ConvergenceWarning: Stochastic Optimizer: Maximum iterations (100) reached and the optimization hasn't converged yet.\n",
      "  warnings.warn(\n"
     ]
    },
    {
     "name": "stdout",
     "output_type": "stream",
     "text": [
      "[CV] END alpha=1e-05, hidden_layer_sizes=(10, 10), learning_rate_init=0.0001; total time= 1.2min\n"
     ]
    },
    {
     "name": "stderr",
     "output_type": "stream",
     "text": [
      "/Users/clovispiedallu/Desktop/DAML_project/.venv/lib/python3.12/site-packages/sklearn/neural_network/_multilayer_perceptron.py:690: ConvergenceWarning: Stochastic Optimizer: Maximum iterations (100) reached and the optimization hasn't converged yet.\n",
      "  warnings.warn(\n"
     ]
    },
    {
     "name": "stdout",
     "output_type": "stream",
     "text": [
      "[CV] END alpha=1e-05, hidden_layer_sizes=(10, 10), learning_rate_init=0.0001; total time= 1.2min\n"
     ]
    },
    {
     "name": "stderr",
     "output_type": "stream",
     "text": [
      "/Users/clovispiedallu/Desktop/DAML_project/.venv/lib/python3.12/site-packages/sklearn/neural_network/_multilayer_perceptron.py:690: ConvergenceWarning: Stochastic Optimizer: Maximum iterations (100) reached and the optimization hasn't converged yet.\n",
      "  warnings.warn(\n"
     ]
    },
    {
     "name": "stdout",
     "output_type": "stream",
     "text": [
      "[CV] END alpha=1e-05, hidden_layer_sizes=100, learning_rate_init=0.01; total time= 1.8min\n"
     ]
    },
    {
     "name": "stderr",
     "output_type": "stream",
     "text": [
      "/Users/clovispiedallu/Desktop/DAML_project/.venv/lib/python3.12/site-packages/sklearn/neural_network/_multilayer_perceptron.py:690: ConvergenceWarning: Stochastic Optimizer: Maximum iterations (100) reached and the optimization hasn't converged yet.\n",
      "  warnings.warn(\n"
     ]
    },
    {
     "name": "stdout",
     "output_type": "stream",
     "text": [
      "[CV] END alpha=1e-05, hidden_layer_sizes=(10, 10), learning_rate_init=0.0001; total time= 1.2min\n",
      "[CV] END alpha=1e-05, hidden_layer_sizes=(10, 10), learning_rate_init=0.1; total time=   9.7s\n",
      "[CV] END alpha=1e-05, hidden_layer_sizes=(10, 10), learning_rate_init=0.1; total time=  11.0s\n",
      "[CV] END alpha=1e-05, hidden_layer_sizes=(10, 10), learning_rate_init=0.1; total time=   9.8s\n"
     ]
    },
    {
     "name": "stderr",
     "output_type": "stream",
     "text": [
      "/Users/clovispiedallu/Desktop/DAML_project/.venv/lib/python3.12/site-packages/sklearn/neural_network/_multilayer_perceptron.py:690: ConvergenceWarning: Stochastic Optimizer: Maximum iterations (100) reached and the optimization hasn't converged yet.\n",
      "  warnings.warn(\n"
     ]
    },
    {
     "name": "stdout",
     "output_type": "stream",
     "text": [
      "[CV] END alpha=1e-05, hidden_layer_sizes=(10, 10), learning_rate_init=0.001; total time= 1.2min\n",
      "[CV] END alpha=1e-05, hidden_layer_sizes=(10, 10), learning_rate_init=0.01; total time=  41.2s\n",
      "[CV] END alpha=1e-05, hidden_layer_sizes=(10, 10), learning_rate_init=0.01; total time=  48.8s\n"
     ]
    },
    {
     "name": "stderr",
     "output_type": "stream",
     "text": [
      "/Users/clovispiedallu/Desktop/DAML_project/.venv/lib/python3.12/site-packages/sklearn/neural_network/_multilayer_perceptron.py:690: ConvergenceWarning: Stochastic Optimizer: Maximum iterations (100) reached and the optimization hasn't converged yet.\n",
      "  warnings.warn(\n"
     ]
    },
    {
     "name": "stdout",
     "output_type": "stream",
     "text": [
      "[CV] END alpha=1e-05, hidden_layer_sizes=(10, 10), learning_rate_init=0.001; total time= 1.3min\n",
      "[CV] END alpha=1e-05, hidden_layer_sizes=(10, 10), learning_rate_init=0.01; total time= 1.1min\n"
     ]
    },
    {
     "name": "stderr",
     "output_type": "stream",
     "text": [
      "/Users/clovispiedallu/Desktop/DAML_project/.venv/lib/python3.12/site-packages/sklearn/neural_network/_multilayer_perceptron.py:690: ConvergenceWarning: Stochastic Optimizer: Maximum iterations (100) reached and the optimization hasn't converged yet.\n",
      "  warnings.warn(\n"
     ]
    },
    {
     "name": "stdout",
     "output_type": "stream",
     "text": [
      "[CV] END alpha=1e-05, hidden_layer_sizes=(10, 10), learning_rate_init=0.001; total time= 1.3min\n",
      "[CV] END alpha=1e-05, hidden_layer_sizes=(100, 100), learning_rate_init=0.01; total time= 1.6min\n",
      "[CV] END alpha=1e-05, hidden_layer_sizes=(100, 100), learning_rate_init=0.001; total time= 2.1min\n",
      "[CV] END alpha=1e-05, hidden_layer_sizes=(100, 100), learning_rate_init=0.001; total time= 2.4min\n",
      "[CV] END alpha=1e-05, hidden_layer_sizes=(100, 100), learning_rate_init=0.01; total time= 2.0min\n",
      "[CV] END alpha=1e-05, hidden_layer_sizes=(100, 100), learning_rate_init=0.1; total time=  28.4s\n",
      "[CV] END alpha=1e-05, hidden_layer_sizes=(100, 100), learning_rate_init=0.1; total time=  28.1s\n",
      "[CV] END alpha=1e-05, hidden_layer_sizes=(100, 100), learning_rate_init=0.1; total time=  27.2s\n",
      "[CV] END alpha=1e-05, hidden_layer_sizes=(100, 100), learning_rate_init=0.001; total time= 3.0min\n",
      "[CV] END alpha=1e-05, hidden_layer_sizes=(100, 100), learning_rate_init=0.01; total time= 1.6min\n"
     ]
    },
    {
     "name": "stderr",
     "output_type": "stream",
     "text": [
      "/Users/clovispiedallu/Desktop/DAML_project/.venv/lib/python3.12/site-packages/sklearn/neural_network/_multilayer_perceptron.py:690: ConvergenceWarning: Stochastic Optimizer: Maximum iterations (100) reached and the optimization hasn't converged yet.\n",
      "  warnings.warn(\n"
     ]
    },
    {
     "name": "stdout",
     "output_type": "stream",
     "text": [
      "[CV] END alpha=1e-05, hidden_layer_sizes=(100, 100), learning_rate_init=0.0001; total time= 4.5min\n"
     ]
    },
    {
     "name": "stderr",
     "output_type": "stream",
     "text": [
      "/Users/clovispiedallu/Desktop/DAML_project/.venv/lib/python3.12/site-packages/sklearn/neural_network/_multilayer_perceptron.py:690: ConvergenceWarning: Stochastic Optimizer: Maximum iterations (100) reached and the optimization hasn't converged yet.\n",
      "  warnings.warn(\n"
     ]
    },
    {
     "name": "stdout",
     "output_type": "stream",
     "text": [
      "[CV] END alpha=1e-05, hidden_layer_sizes=(100, 100), learning_rate_init=0.0001; total time= 4.5min\n"
     ]
    },
    {
     "name": "stderr",
     "output_type": "stream",
     "text": [
      "/Users/clovispiedallu/Desktop/DAML_project/.venv/lib/python3.12/site-packages/sklearn/neural_network/_multilayer_perceptron.py:690: ConvergenceWarning: Stochastic Optimizer: Maximum iterations (100) reached and the optimization hasn't converged yet.\n",
      "  warnings.warn(\n"
     ]
    },
    {
     "name": "stdout",
     "output_type": "stream",
     "text": [
      "[CV] END alpha=1e-05, hidden_layer_sizes=(100, 100), learning_rate_init=0.0001; total time= 4.5min\n",
      "[CV] END alpha=1e-05, hidden_layer_sizes=(100, 100, 100), learning_rate_init=0.01; total time= 1.3min\n",
      "[CV] END alpha=1e-05, hidden_layer_sizes=(100, 100, 100), learning_rate_init=0.001; total time= 1.5min\n",
      "[CV] END alpha=1e-05, hidden_layer_sizes=(100, 100, 100), learning_rate_init=0.01; total time= 1.5min\n",
      "[CV] END alpha=1e-05, hidden_layer_sizes=(100, 100, 100), learning_rate_init=0.1; total time=  37.2s\n",
      "[CV] END alpha=1e-05, hidden_layer_sizes=(100, 100, 100), learning_rate_init=0.001; total time= 2.9min\n",
      "[CV] END alpha=1e-05, hidden_layer_sizes=(100, 100, 100), learning_rate_init=0.001; total time= 3.5min\n",
      "[CV] END alpha=1e-05, hidden_layer_sizes=(100, 100, 100), learning_rate_init=0.1; total time= 1.0min\n",
      "[CV] END alpha=1e-05, hidden_layer_sizes=(100, 100, 100), learning_rate_init=0.1; total time=  47.4s\n",
      "[CV] END alpha=1e-05, hidden_layer_sizes=(100, 100, 100), learning_rate_init=0.01; total time= 2.1min\n",
      "[CV] END alpha=1e-05, hidden_layer_sizes=(100, 100, 100), learning_rate_init=0.0001; total time= 5.7min\n"
     ]
    },
    {
     "name": "stderr",
     "output_type": "stream",
     "text": [
      "/Users/clovispiedallu/Desktop/DAML_project/.venv/lib/python3.12/site-packages/sklearn/neural_network/_multilayer_perceptron.py:690: ConvergenceWarning: Stochastic Optimizer: Maximum iterations (100) reached and the optimization hasn't converged yet.\n",
      "  warnings.warn(\n"
     ]
    },
    {
     "name": "stdout",
     "output_type": "stream",
     "text": [
      "[CV] END alpha=0.0001, hidden_layer_sizes=100, learning_rate_init=0.0001; total time= 2.0min\n",
      "[CV] END alpha=1e-05, hidden_layer_sizes=(100, 100, 100), learning_rate_init=0.0001; total time= 5.8min\n"
     ]
    },
    {
     "name": "stderr",
     "output_type": "stream",
     "text": [
      "/Users/clovispiedallu/Desktop/DAML_project/.venv/lib/python3.12/site-packages/sklearn/neural_network/_multilayer_perceptron.py:690: ConvergenceWarning: Stochastic Optimizer: Maximum iterations (100) reached and the optimization hasn't converged yet.\n",
      "  warnings.warn(\n"
     ]
    },
    {
     "name": "stdout",
     "output_type": "stream",
     "text": [
      "[CV] END alpha=0.0001, hidden_layer_sizes=100, learning_rate_init=0.0001; total time= 2.0min\n"
     ]
    },
    {
     "name": "stderr",
     "output_type": "stream",
     "text": [
      "/Users/clovispiedallu/Desktop/DAML_project/.venv/lib/python3.12/site-packages/sklearn/neural_network/_multilayer_perceptron.py:690: ConvergenceWarning: Stochastic Optimizer: Maximum iterations (100) reached and the optimization hasn't converged yet.\n",
      "  warnings.warn(\n"
     ]
    },
    {
     "name": "stdout",
     "output_type": "stream",
     "text": [
      "[CV] END alpha=0.0001, hidden_layer_sizes=100, learning_rate_init=0.0001; total time= 2.0min\n",
      "[CV] END alpha=0.0001, hidden_layer_sizes=100, learning_rate_init=0.1; total time=  12.6s\n"
     ]
    },
    {
     "name": "stderr",
     "output_type": "stream",
     "text": [
      "/Users/clovispiedallu/Desktop/DAML_project/.venv/lib/python3.12/site-packages/sklearn/neural_network/_multilayer_perceptron.py:690: ConvergenceWarning: Stochastic Optimizer: Maximum iterations (100) reached and the optimization hasn't converged yet.\n",
      "  warnings.warn(\n"
     ]
    },
    {
     "name": "stdout",
     "output_type": "stream",
     "text": [
      "[CV] END alpha=1e-05, hidden_layer_sizes=(100, 100, 100), learning_rate_init=0.0001; total time= 6.2min\n"
     ]
    },
    {
     "name": "stderr",
     "output_type": "stream",
     "text": [
      "/Users/clovispiedallu/Desktop/DAML_project/.venv/lib/python3.12/site-packages/sklearn/neural_network/_multilayer_perceptron.py:690: ConvergenceWarning: Stochastic Optimizer: Maximum iterations (100) reached and the optimization hasn't converged yet.\n",
      "  warnings.warn(\n"
     ]
    },
    {
     "name": "stdout",
     "output_type": "stream",
     "text": [
      "[CV] END alpha=0.0001, hidden_layer_sizes=100, learning_rate_init=0.001; total time= 2.0min\n",
      "[CV] END alpha=0.0001, hidden_layer_sizes=100, learning_rate_init=0.1; total time=  14.2s\n",
      "[CV] END alpha=0.0001, hidden_layer_sizes=100, learning_rate_init=0.1; total time=  18.5s\n"
     ]
    },
    {
     "name": "stderr",
     "output_type": "stream",
     "text": [
      "/Users/clovispiedallu/Desktop/DAML_project/.venv/lib/python3.12/site-packages/sklearn/neural_network/_multilayer_perceptron.py:690: ConvergenceWarning: Stochastic Optimizer: Maximum iterations (100) reached and the optimization hasn't converged yet.\n",
      "  warnings.warn(\n"
     ]
    },
    {
     "name": "stdout",
     "output_type": "stream",
     "text": [
      "[CV] END alpha=0.0001, hidden_layer_sizes=100, learning_rate_init=0.01; total time= 1.2min\n",
      "[CV] END alpha=0.0001, hidden_layer_sizes=100, learning_rate_init=0.001; total time= 2.0min\n",
      "[CV] END alpha=0.0001, hidden_layer_sizes=100, learning_rate_init=0.01; total time= 1.5min\n"
     ]
    },
    {
     "name": "stderr",
     "output_type": "stream",
     "text": [
      "/Users/clovispiedallu/Desktop/DAML_project/.venv/lib/python3.12/site-packages/sklearn/neural_network/_multilayer_perceptron.py:690: ConvergenceWarning: Stochastic Optimizer: Maximum iterations (100) reached and the optimization hasn't converged yet.\n",
      "  warnings.warn(\n"
     ]
    },
    {
     "name": "stdout",
     "output_type": "stream",
     "text": [
      "[CV] END alpha=0.0001, hidden_layer_sizes=100, learning_rate_init=0.001; total time= 1.9min\n"
     ]
    },
    {
     "name": "stderr",
     "output_type": "stream",
     "text": [
      "/Users/clovispiedallu/Desktop/DAML_project/.venv/lib/python3.12/site-packages/sklearn/neural_network/_multilayer_perceptron.py:690: ConvergenceWarning: Stochastic Optimizer: Maximum iterations (100) reached and the optimization hasn't converged yet.\n",
      "  warnings.warn(\n"
     ]
    },
    {
     "name": "stdout",
     "output_type": "stream",
     "text": [
      "[CV] END alpha=0.0001, hidden_layer_sizes=(10, 10), learning_rate_init=0.0001; total time= 1.2min\n"
     ]
    },
    {
     "name": "stderr",
     "output_type": "stream",
     "text": [
      "/Users/clovispiedallu/Desktop/DAML_project/.venv/lib/python3.12/site-packages/sklearn/neural_network/_multilayer_perceptron.py:690: ConvergenceWarning: Stochastic Optimizer: Maximum iterations (100) reached and the optimization hasn't converged yet.\n",
      "  warnings.warn(\n"
     ]
    },
    {
     "name": "stdout",
     "output_type": "stream",
     "text": [
      "[CV] END alpha=0.0001, hidden_layer_sizes=(10, 10), learning_rate_init=0.0001; total time= 1.2min\n",
      "[CV] END alpha=0.0001, hidden_layer_sizes=100, learning_rate_init=0.01; total time= 1.8min\n",
      "[CV] END alpha=0.0001, hidden_layer_sizes=(10, 10), learning_rate_init=0.1; total time=   9.9s\n"
     ]
    },
    {
     "name": "stderr",
     "output_type": "stream",
     "text": [
      "/Users/clovispiedallu/Desktop/DAML_project/.venv/lib/python3.12/site-packages/sklearn/neural_network/_multilayer_perceptron.py:690: ConvergenceWarning: Stochastic Optimizer: Maximum iterations (100) reached and the optimization hasn't converged yet.\n",
      "  warnings.warn(\n"
     ]
    },
    {
     "name": "stdout",
     "output_type": "stream",
     "text": [
      "[CV] END alpha=0.0001, hidden_layer_sizes=(10, 10), learning_rate_init=0.0001; total time= 1.2min\n",
      "[CV] END alpha=0.0001, hidden_layer_sizes=(10, 10), learning_rate_init=0.1; total time=  10.3s\n",
      "[CV] END alpha=0.0001, hidden_layer_sizes=(10, 10), learning_rate_init=0.1; total time=   9.3s\n",
      "[CV] END alpha=0.0001, hidden_layer_sizes=(10, 10), learning_rate_init=0.01; total time=  41.9s\n"
     ]
    },
    {
     "name": "stderr",
     "output_type": "stream",
     "text": [
      "/Users/clovispiedallu/Desktop/DAML_project/.venv/lib/python3.12/site-packages/sklearn/neural_network/_multilayer_perceptron.py:690: ConvergenceWarning: Stochastic Optimizer: Maximum iterations (100) reached and the optimization hasn't converged yet.\n",
      "  warnings.warn(\n",
      "/Users/clovispiedallu/Desktop/DAML_project/.venv/lib/python3.12/site-packages/sklearn/neural_network/_multilayer_perceptron.py:690: ConvergenceWarning: Stochastic Optimizer: Maximum iterations (100) reached and the optimization hasn't converged yet.\n",
      "  warnings.warn(\n"
     ]
    },
    {
     "name": "stdout",
     "output_type": "stream",
     "text": [
      "[CV] END alpha=0.0001, hidden_layer_sizes=(10, 10), learning_rate_init=0.001; total time= 1.2min\n",
      "[CV] END alpha=0.0001, hidden_layer_sizes=(10, 10), learning_rate_init=0.001; total time= 1.2min\n",
      "[CV] END alpha=0.0001, hidden_layer_sizes=(10, 10), learning_rate_init=0.01; total time=  59.2s\n"
     ]
    },
    {
     "name": "stderr",
     "output_type": "stream",
     "text": [
      "/Users/clovispiedallu/Desktop/DAML_project/.venv/lib/python3.12/site-packages/sklearn/neural_network/_multilayer_perceptron.py:690: ConvergenceWarning: Stochastic Optimizer: Maximum iterations (100) reached and the optimization hasn't converged yet.\n",
      "  warnings.warn(\n"
     ]
    },
    {
     "name": "stdout",
     "output_type": "stream",
     "text": [
      "[CV] END alpha=0.0001, hidden_layer_sizes=(10, 10), learning_rate_init=0.001; total time= 1.2min\n"
     ]
    },
    {
     "name": "stderr",
     "output_type": "stream",
     "text": [
      "/Users/clovispiedallu/Desktop/DAML_project/.venv/lib/python3.12/site-packages/sklearn/neural_network/_multilayer_perceptron.py:690: ConvergenceWarning: Stochastic Optimizer: Maximum iterations (100) reached and the optimization hasn't converged yet.\n",
      "  warnings.warn(\n"
     ]
    },
    {
     "name": "stdout",
     "output_type": "stream",
     "text": [
      "[CV] END alpha=0.0001, hidden_layer_sizes=(10, 10), learning_rate_init=0.01; total time= 1.2min\n",
      "[CV] END alpha=0.0001, hidden_layer_sizes=(100, 100), learning_rate_init=0.01; total time=  49.2s\n",
      "[CV] END alpha=0.0001, hidden_layer_sizes=(100, 100), learning_rate_init=0.01; total time=  49.6s\n",
      "[CV] END alpha=0.0001, hidden_layer_sizes=(100, 100), learning_rate_init=0.1; total time=  31.9s\n",
      "[CV] END alpha=0.0001, hidden_layer_sizes=(100, 100), learning_rate_init=0.001; total time= 2.0min\n",
      "[CV] END alpha=0.0001, hidden_layer_sizes=(100, 100), learning_rate_init=0.001; total time= 1.9min\n",
      "[CV] END alpha=0.0001, hidden_layer_sizes=(100, 100), learning_rate_init=0.001; total time= 2.4min\n",
      "[CV] END alpha=0.0001, hidden_layer_sizes=(100, 100), learning_rate_init=0.1; total time=  24.9s\n",
      "[CV] END alpha=0.0001, hidden_layer_sizes=(100, 100), learning_rate_init=0.01; total time= 1.1min\n",
      "[CV] END alpha=0.0001, hidden_layer_sizes=(100, 100), learning_rate_init=0.1; total time=  25.2s\n"
     ]
    },
    {
     "name": "stderr",
     "output_type": "stream",
     "text": [
      "/Users/clovispiedallu/Desktop/DAML_project/.venv/lib/python3.12/site-packages/sklearn/neural_network/_multilayer_perceptron.py:690: ConvergenceWarning: Stochastic Optimizer: Maximum iterations (100) reached and the optimization hasn't converged yet.\n",
      "  warnings.warn(\n"
     ]
    },
    {
     "name": "stdout",
     "output_type": "stream",
     "text": [
      "[CV] END alpha=0.0001, hidden_layer_sizes=(100, 100), learning_rate_init=0.0001; total time= 3.9min\n"
     ]
    },
    {
     "name": "stderr",
     "output_type": "stream",
     "text": [
      "/Users/clovispiedallu/Desktop/DAML_project/.venv/lib/python3.12/site-packages/sklearn/neural_network/_multilayer_perceptron.py:690: ConvergenceWarning: Stochastic Optimizer: Maximum iterations (100) reached and the optimization hasn't converged yet.\n",
      "  warnings.warn(\n"
     ]
    },
    {
     "name": "stdout",
     "output_type": "stream",
     "text": [
      "[CV] END alpha=0.0001, hidden_layer_sizes=(100, 100), learning_rate_init=0.0001; total time= 3.9min\n"
     ]
    },
    {
     "name": "stderr",
     "output_type": "stream",
     "text": [
      "/Users/clovispiedallu/Desktop/DAML_project/.venv/lib/python3.12/site-packages/sklearn/neural_network/_multilayer_perceptron.py:690: ConvergenceWarning: Stochastic Optimizer: Maximum iterations (100) reached and the optimization hasn't converged yet.\n",
      "  warnings.warn(\n"
     ]
    },
    {
     "name": "stdout",
     "output_type": "stream",
     "text": [
      "[CV] END alpha=0.0001, hidden_layer_sizes=(100, 100), learning_rate_init=0.0001; total time= 4.0min\n",
      "[CV] END alpha=0.0001, hidden_layer_sizes=(100, 100, 100), learning_rate_init=0.001; total time= 1.9min\n",
      "[CV] END alpha=0.0001, hidden_layer_sizes=(100, 100, 100), learning_rate_init=0.001; total time= 2.2min\n",
      "[CV] END alpha=0.0001, hidden_layer_sizes=(100, 100, 100), learning_rate_init=0.01; total time=  49.6s\n",
      "[CV] END alpha=0.0001, hidden_layer_sizes=(100, 100, 100), learning_rate_init=0.01; total time= 1.4min\n",
      "[CV] END alpha=0.0001, hidden_layer_sizes=(100, 100, 100), learning_rate_init=0.1; total time=  49.3s\n",
      "[CV] END alpha=0.0001, hidden_layer_sizes=(100, 100, 100), learning_rate_init=0.01; total time= 1.5min\n",
      "[CV] END alpha=0.0001, hidden_layer_sizes=(100, 100, 100), learning_rate_init=0.1; total time=  59.7s\n",
      "[CV] END alpha=0.0001, hidden_layer_sizes=(100, 100, 100), learning_rate_init=0.1; total time=  51.2s\n",
      "[CV] END alpha=0.0001, hidden_layer_sizes=(100, 100, 100), learning_rate_init=0.001; total time= 2.5min\n"
     ]
    },
    {
     "name": "stderr",
     "output_type": "stream",
     "text": [
      "/Users/clovispiedallu/Desktop/DAML_project/.venv/lib/python3.12/site-packages/sklearn/neural_network/_multilayer_perceptron.py:690: ConvergenceWarning: Stochastic Optimizer: Maximum iterations (100) reached and the optimization hasn't converged yet.\n",
      "  warnings.warn(\n"
     ]
    },
    {
     "name": "stdout",
     "output_type": "stream",
     "text": [
      "[CV] END alpha=0.001, hidden_layer_sizes=100, learning_rate_init=0.0001; total time= 2.1min\n"
     ]
    },
    {
     "name": "stderr",
     "output_type": "stream",
     "text": [
      "/Users/clovispiedallu/Desktop/DAML_project/.venv/lib/python3.12/site-packages/sklearn/neural_network/_multilayer_perceptron.py:690: ConvergenceWarning: Stochastic Optimizer: Maximum iterations (100) reached and the optimization hasn't converged yet.\n",
      "  warnings.warn(\n"
     ]
    },
    {
     "name": "stdout",
     "output_type": "stream",
     "text": [
      "[CV] END alpha=0.001, hidden_layer_sizes=100, learning_rate_init=0.0001; total time= 2.2min\n"
     ]
    },
    {
     "name": "stderr",
     "output_type": "stream",
     "text": [
      "/Users/clovispiedallu/Desktop/DAML_project/.venv/lib/python3.12/site-packages/sklearn/neural_network/_multilayer_perceptron.py:690: ConvergenceWarning: Stochastic Optimizer: Maximum iterations (100) reached and the optimization hasn't converged yet.\n",
      "  warnings.warn(\n"
     ]
    },
    {
     "name": "stdout",
     "output_type": "stream",
     "text": [
      "[CV] END alpha=0.001, hidden_layer_sizes=100, learning_rate_init=0.0001; total time= 2.2min\n"
     ]
    },
    {
     "name": "stderr",
     "output_type": "stream",
     "text": [
      "/Users/clovispiedallu/Desktop/DAML_project/.venv/lib/python3.12/site-packages/sklearn/neural_network/_multilayer_perceptron.py:690: ConvergenceWarning: Stochastic Optimizer: Maximum iterations (100) reached and the optimization hasn't converged yet.\n",
      "  warnings.warn(\n"
     ]
    },
    {
     "name": "stdout",
     "output_type": "stream",
     "text": [
      "[CV] END alpha=0.001, hidden_layer_sizes=100, learning_rate_init=0.001; total time= 2.2min\n",
      "[CV] END alpha=0.0001, hidden_layer_sizes=(100, 100, 100), learning_rate_init=0.0001; total time= 5.8min\n",
      "[CV] END alpha=0.001, hidden_layer_sizes=100, learning_rate_init=0.1; total time=  13.8s\n"
     ]
    },
    {
     "name": "stderr",
     "output_type": "stream",
     "text": [
      "/Users/clovispiedallu/Desktop/DAML_project/.venv/lib/python3.12/site-packages/sklearn/neural_network/_multilayer_perceptron.py:690: ConvergenceWarning: Stochastic Optimizer: Maximum iterations (100) reached and the optimization hasn't converged yet.\n",
      "  warnings.warn(\n"
     ]
    },
    {
     "name": "stdout",
     "output_type": "stream",
     "text": [
      "[CV] END alpha=0.001, hidden_layer_sizes=100, learning_rate_init=0.001; total time= 2.3min\n"
     ]
    },
    {
     "name": "stderr",
     "output_type": "stream",
     "text": [
      "/Users/clovispiedallu/Desktop/DAML_project/.venv/lib/python3.12/site-packages/sklearn/neural_network/_multilayer_perceptron.py:690: ConvergenceWarning: Stochastic Optimizer: Maximum iterations (100) reached and the optimization hasn't converged yet.\n",
      "  warnings.warn(\n"
     ]
    },
    {
     "name": "stdout",
     "output_type": "stream",
     "text": [
      "[CV] END alpha=0.0001, hidden_layer_sizes=(100, 100, 100), learning_rate_init=0.0001; total time= 6.3min\n"
     ]
    },
    {
     "name": "stderr",
     "output_type": "stream",
     "text": [
      "/Users/clovispiedallu/Desktop/DAML_project/.venv/lib/python3.12/site-packages/sklearn/neural_network/_multilayer_perceptron.py:690: ConvergenceWarning: Stochastic Optimizer: Maximum iterations (100) reached and the optimization hasn't converged yet.\n",
      "  warnings.warn(\n"
     ]
    },
    {
     "name": "stdout",
     "output_type": "stream",
     "text": [
      "[CV] END alpha=0.0001, hidden_layer_sizes=(100, 100, 100), learning_rate_init=0.0001; total time= 6.2min\n",
      "[CV] END alpha=0.001, hidden_layer_sizes=100, learning_rate_init=0.1; total time=  16.1s\n",
      "[CV] END alpha=0.001, hidden_layer_sizes=100, learning_rate_init=0.1; total time=  14.2s\n",
      "[CV] END alpha=0.001, hidden_layer_sizes=100, learning_rate_init=0.01; total time= 1.4min\n",
      "[CV] END alpha=0.001, hidden_layer_sizes=100, learning_rate_init=0.01; total time= 1.6min\n",
      "[CV] END alpha=0.001, hidden_layer_sizes=100, learning_rate_init=0.01; total time= 1.4min\n"
     ]
    },
    {
     "name": "stderr",
     "output_type": "stream",
     "text": [
      "/Users/clovispiedallu/Desktop/DAML_project/.venv/lib/python3.12/site-packages/sklearn/neural_network/_multilayer_perceptron.py:690: ConvergenceWarning: Stochastic Optimizer: Maximum iterations (100) reached and the optimization hasn't converged yet.\n",
      "  warnings.warn(\n"
     ]
    },
    {
     "name": "stdout",
     "output_type": "stream",
     "text": [
      "[CV] END alpha=0.001, hidden_layer_sizes=100, learning_rate_init=0.001; total time= 2.2min\n"
     ]
    },
    {
     "name": "stderr",
     "output_type": "stream",
     "text": [
      "/Users/clovispiedallu/Desktop/DAML_project/.venv/lib/python3.12/site-packages/sklearn/neural_network/_multilayer_perceptron.py:690: ConvergenceWarning: Stochastic Optimizer: Maximum iterations (100) reached and the optimization hasn't converged yet.\n",
      "  warnings.warn(\n"
     ]
    },
    {
     "name": "stdout",
     "output_type": "stream",
     "text": [
      "[CV] END alpha=0.001, hidden_layer_sizes=(10, 10), learning_rate_init=0.0001; total time= 1.3min\n"
     ]
    },
    {
     "name": "stderr",
     "output_type": "stream",
     "text": [
      "/Users/clovispiedallu/Desktop/DAML_project/.venv/lib/python3.12/site-packages/sklearn/neural_network/_multilayer_perceptron.py:690: ConvergenceWarning: Stochastic Optimizer: Maximum iterations (100) reached and the optimization hasn't converged yet.\n",
      "  warnings.warn(\n"
     ]
    },
    {
     "name": "stdout",
     "output_type": "stream",
     "text": [
      "[CV] END alpha=0.001, hidden_layer_sizes=(10, 10), learning_rate_init=0.0001; total time= 1.3min\n"
     ]
    },
    {
     "name": "stderr",
     "output_type": "stream",
     "text": [
      "/Users/clovispiedallu/Desktop/DAML_project/.venv/lib/python3.12/site-packages/sklearn/neural_network/_multilayer_perceptron.py:690: ConvergenceWarning: Stochastic Optimizer: Maximum iterations (100) reached and the optimization hasn't converged yet.\n",
      "  warnings.warn(\n"
     ]
    },
    {
     "name": "stdout",
     "output_type": "stream",
     "text": [
      "[CV] END alpha=0.001, hidden_layer_sizes=(10, 10), learning_rate_init=0.0001; total time= 1.3min\n"
     ]
    },
    {
     "name": "stderr",
     "output_type": "stream",
     "text": [
      "/Users/clovispiedallu/Desktop/DAML_project/.venv/lib/python3.12/site-packages/sklearn/neural_network/_multilayer_perceptron.py:690: ConvergenceWarning: Stochastic Optimizer: Maximum iterations (100) reached and the optimization hasn't converged yet.\n",
      "  warnings.warn(\n"
     ]
    },
    {
     "name": "stdout",
     "output_type": "stream",
     "text": [
      "[CV] END alpha=0.001, hidden_layer_sizes=(10, 10), learning_rate_init=0.001; total time= 1.3min\n",
      "[CV] END alpha=0.001, hidden_layer_sizes=(10, 10), learning_rate_init=0.1; total time=   9.0s\n",
      "[CV] END alpha=0.001, hidden_layer_sizes=(10, 10), learning_rate_init=0.1; total time=   9.7s\n",
      "[CV] END alpha=0.001, hidden_layer_sizes=(10, 10), learning_rate_init=0.1; total time=   9.7s\n",
      "[CV] END alpha=0.001, hidden_layer_sizes=(10, 10), learning_rate_init=0.01; total time=  27.9s\n",
      "[CV] END alpha=0.001, hidden_layer_sizes=(10, 10), learning_rate_init=0.01; total time=  38.8s\n",
      "[CV] END alpha=0.001, hidden_layer_sizes=(10, 10), learning_rate_init=0.001; total time= 1.3min\n"
     ]
    },
    {
     "name": "stderr",
     "output_type": "stream",
     "text": [
      "/Users/clovispiedallu/Desktop/DAML_project/.venv/lib/python3.12/site-packages/sklearn/neural_network/_multilayer_perceptron.py:690: ConvergenceWarning: Stochastic Optimizer: Maximum iterations (100) reached and the optimization hasn't converged yet.\n",
      "  warnings.warn(\n"
     ]
    },
    {
     "name": "stdout",
     "output_type": "stream",
     "text": [
      "[CV] END alpha=0.001, hidden_layer_sizes=(10, 10), learning_rate_init=0.001; total time= 1.3min\n"
     ]
    },
    {
     "name": "stderr",
     "output_type": "stream",
     "text": [
      "/Users/clovispiedallu/Desktop/DAML_project/.venv/lib/python3.12/site-packages/sklearn/neural_network/_multilayer_perceptron.py:690: ConvergenceWarning: Stochastic Optimizer: Maximum iterations (100) reached and the optimization hasn't converged yet.\n",
      "  warnings.warn(\n"
     ]
    },
    {
     "name": "stdout",
     "output_type": "stream",
     "text": [
      "[CV] END alpha=0.001, hidden_layer_sizes=(10, 10), learning_rate_init=0.01; total time= 1.4min\n",
      "[CV] END alpha=0.001, hidden_layer_sizes=(100, 100), learning_rate_init=0.01; total time= 1.8min\n",
      "[CV] END alpha=0.001, hidden_layer_sizes=(100, 100), learning_rate_init=0.001; total time= 3.3min\n",
      "[CV] END alpha=0.001, hidden_layer_sizes=(100, 100), learning_rate_init=0.001; total time= 3.3min\n",
      "[CV] END alpha=0.001, hidden_layer_sizes=(100, 100), learning_rate_init=0.01; total time= 2.5min\n",
      "[CV] END alpha=0.001, hidden_layer_sizes=(100, 100), learning_rate_init=0.1; total time=  31.5s\n",
      "[CV] END alpha=0.001, hidden_layer_sizes=(100, 100), learning_rate_init=0.1; total time=  33.3s\n",
      "[CV] END alpha=0.001, hidden_layer_sizes=(100, 100), learning_rate_init=0.1; total time=  30.3s\n"
     ]
    },
    {
     "name": "stderr",
     "output_type": "stream",
     "text": [
      "/Users/clovispiedallu/Desktop/DAML_project/.venv/lib/python3.12/site-packages/sklearn/neural_network/_multilayer_perceptron.py:690: ConvergenceWarning: Stochastic Optimizer: Maximum iterations (100) reached and the optimization hasn't converged yet.\n",
      "  warnings.warn(\n"
     ]
    },
    {
     "name": "stdout",
     "output_type": "stream",
     "text": [
      "[CV] END alpha=0.001, hidden_layer_sizes=(100, 100), learning_rate_init=0.0001; total time= 4.5min\n"
     ]
    },
    {
     "name": "stderr",
     "output_type": "stream",
     "text": [
      "/Users/clovispiedallu/Desktop/DAML_project/.venv/lib/python3.12/site-packages/sklearn/neural_network/_multilayer_perceptron.py:690: ConvergenceWarning: Stochastic Optimizer: Maximum iterations (100) reached and the optimization hasn't converged yet.\n",
      "  warnings.warn(\n"
     ]
    },
    {
     "name": "stdout",
     "output_type": "stream",
     "text": [
      "[CV] END alpha=0.001, hidden_layer_sizes=(100, 100), learning_rate_init=0.0001; total time= 4.5min\n"
     ]
    },
    {
     "name": "stderr",
     "output_type": "stream",
     "text": [
      "/Users/clovispiedallu/Desktop/DAML_project/.venv/lib/python3.12/site-packages/sklearn/neural_network/_multilayer_perceptron.py:690: ConvergenceWarning: Stochastic Optimizer: Maximum iterations (100) reached and the optimization hasn't converged yet.\n",
      "  warnings.warn(\n"
     ]
    },
    {
     "name": "stdout",
     "output_type": "stream",
     "text": [
      "[CV] END alpha=0.001, hidden_layer_sizes=(100, 100), learning_rate_init=0.0001; total time= 4.5min\n",
      "[CV] END alpha=0.001, hidden_layer_sizes=(100, 100), learning_rate_init=0.001; total time= 4.1min\n",
      "[CV] END alpha=0.001, hidden_layer_sizes=(100, 100), learning_rate_init=0.01; total time= 2.4min\n",
      "[CV] END alpha=0.001, hidden_layer_sizes=(100, 100, 100), learning_rate_init=0.01; total time= 1.5min\n",
      "[CV] END alpha=0.001, hidden_layer_sizes=(100, 100, 100), learning_rate_init=0.01; total time= 1.7min\n",
      "[CV] END alpha=0.001, hidden_layer_sizes=(100, 100, 100), learning_rate_init=0.001; total time= 2.4min\n",
      "[CV] END alpha=0.001, hidden_layer_sizes=(100, 100, 100), learning_rate_init=0.01; total time= 1.6min\n",
      "[CV] END alpha=0.001, hidden_layer_sizes=(100, 100, 100), learning_rate_init=0.1; total time= 1.1min\n",
      "[CV] END alpha=0.001, hidden_layer_sizes=(100, 100, 100), learning_rate_init=0.1; total time= 1.2min\n",
      "[CV] END alpha=0.001, hidden_layer_sizes=(100, 100, 100), learning_rate_init=0.1; total time=  55.9s\n",
      "[CV] END alpha=0.001, hidden_layer_sizes=(100, 100, 100), learning_rate_init=0.001; total time= 4.6min\n"
     ]
    },
    {
     "name": "stderr",
     "output_type": "stream",
     "text": [
      "/Users/clovispiedallu/Desktop/DAML_project/.venv/lib/python3.12/site-packages/sklearn/neural_network/_multilayer_perceptron.py:690: ConvergenceWarning: Stochastic Optimizer: Maximum iterations (100) reached and the optimization hasn't converged yet.\n",
      "  warnings.warn(\n"
     ]
    },
    {
     "name": "stdout",
     "output_type": "stream",
     "text": [
      "[CV] END alpha=0.01, hidden_layer_sizes=100, learning_rate_init=0.0001; total time= 2.5min\n"
     ]
    },
    {
     "name": "stderr",
     "output_type": "stream",
     "text": [
      "/Users/clovispiedallu/Desktop/DAML_project/.venv/lib/python3.12/site-packages/sklearn/neural_network/_multilayer_perceptron.py:690: ConvergenceWarning: Stochastic Optimizer: Maximum iterations (100) reached and the optimization hasn't converged yet.\n",
      "  warnings.warn(\n"
     ]
    },
    {
     "name": "stdout",
     "output_type": "stream",
     "text": [
      "[CV] END alpha=0.01, hidden_layer_sizes=100, learning_rate_init=0.0001; total time= 2.5min\n",
      "[CV] END alpha=0.001, hidden_layer_sizes=(100, 100, 100), learning_rate_init=0.001; total time= 6.0min\n",
      "[CV] END alpha=0.001, hidden_layer_sizes=(100, 100, 100), learning_rate_init=0.0001; total time= 6.9min\n"
     ]
    },
    {
     "name": "stderr",
     "output_type": "stream",
     "text": [
      "/Users/clovispiedallu/Desktop/DAML_project/.venv/lib/python3.12/site-packages/sklearn/neural_network/_multilayer_perceptron.py:690: ConvergenceWarning: Stochastic Optimizer: Maximum iterations (100) reached and the optimization hasn't converged yet.\n",
      "  warnings.warn(\n"
     ]
    },
    {
     "name": "stdout",
     "output_type": "stream",
     "text": [
      "[CV] END alpha=0.01, hidden_layer_sizes=100, learning_rate_init=0.0001; total time= 2.4min\n"
     ]
    },
    {
     "name": "stderr",
     "output_type": "stream",
     "text": [
      "/Users/clovispiedallu/Desktop/DAML_project/.venv/lib/python3.12/site-packages/sklearn/neural_network/_multilayer_perceptron.py:690: ConvergenceWarning: Stochastic Optimizer: Maximum iterations (100) reached and the optimization hasn't converged yet.\n",
      "  warnings.warn(\n"
     ]
    },
    {
     "name": "stdout",
     "output_type": "stream",
     "text": [
      "[CV] END alpha=0.001, hidden_layer_sizes=(100, 100, 100), learning_rate_init=0.0001; total time= 7.2min\n"
     ]
    },
    {
     "name": "stderr",
     "output_type": "stream",
     "text": [
      "/Users/clovispiedallu/Desktop/DAML_project/.venv/lib/python3.12/site-packages/sklearn/neural_network/_multilayer_perceptron.py:690: ConvergenceWarning: Stochastic Optimizer: Maximum iterations (100) reached and the optimization hasn't converged yet.\n",
      "  warnings.warn(\n"
     ]
    },
    {
     "name": "stdout",
     "output_type": "stream",
     "text": [
      "[CV] END alpha=0.001, hidden_layer_sizes=(100, 100, 100), learning_rate_init=0.0001; total time= 7.2min\n"
     ]
    },
    {
     "name": "stderr",
     "output_type": "stream",
     "text": [
      "/Users/clovispiedallu/Desktop/DAML_project/.venv/lib/python3.12/site-packages/sklearn/neural_network/_multilayer_perceptron.py:690: ConvergenceWarning: Stochastic Optimizer: Maximum iterations (100) reached and the optimization hasn't converged yet.\n",
      "  warnings.warn(\n"
     ]
    },
    {
     "name": "stdout",
     "output_type": "stream",
     "text": [
      "[CV] END alpha=0.01, hidden_layer_sizes=100, learning_rate_init=0.001; total time= 2.3min\n",
      "[CV] END alpha=0.01, hidden_layer_sizes=100, learning_rate_init=0.1; total time=  19.6s\n",
      "[CV] END alpha=0.01, hidden_layer_sizes=100, learning_rate_init=0.1; total time=  14.8s\n",
      "[CV] END alpha=0.01, hidden_layer_sizes=100, learning_rate_init=0.1; total time=  19.3s\n",
      "[CV] END alpha=0.01, hidden_layer_sizes=100, learning_rate_init=0.01; total time= 1.4min\n",
      "[CV] END alpha=0.01, hidden_layer_sizes=100, learning_rate_init=0.01; total time= 1.4min\n"
     ]
    },
    {
     "name": "stderr",
     "output_type": "stream",
     "text": [
      "/Users/clovispiedallu/Desktop/DAML_project/.venv/lib/python3.12/site-packages/sklearn/neural_network/_multilayer_perceptron.py:690: ConvergenceWarning: Stochastic Optimizer: Maximum iterations (100) reached and the optimization hasn't converged yet.\n",
      "  warnings.warn(\n"
     ]
    },
    {
     "name": "stdout",
     "output_type": "stream",
     "text": [
      "[CV] END alpha=0.01, hidden_layer_sizes=100, learning_rate_init=0.01; total time= 1.9min\n"
     ]
    },
    {
     "name": "stderr",
     "output_type": "stream",
     "text": [
      "/Users/clovispiedallu/Desktop/DAML_project/.venv/lib/python3.12/site-packages/sklearn/neural_network/_multilayer_perceptron.py:690: ConvergenceWarning: Stochastic Optimizer: Maximum iterations (100) reached and the optimization hasn't converged yet.\n",
      "  warnings.warn(\n"
     ]
    },
    {
     "name": "stdout",
     "output_type": "stream",
     "text": [
      "[CV] END alpha=0.01, hidden_layer_sizes=100, learning_rate_init=0.001; total time= 2.1min\n"
     ]
    },
    {
     "name": "stderr",
     "output_type": "stream",
     "text": [
      "/Users/clovispiedallu/Desktop/DAML_project/.venv/lib/python3.12/site-packages/sklearn/neural_network/_multilayer_perceptron.py:690: ConvergenceWarning: Stochastic Optimizer: Maximum iterations (100) reached and the optimization hasn't converged yet.\n",
      "  warnings.warn(\n"
     ]
    },
    {
     "name": "stdout",
     "output_type": "stream",
     "text": [
      "[CV] END alpha=0.01, hidden_layer_sizes=100, learning_rate_init=0.001; total time= 2.1min\n"
     ]
    },
    {
     "name": "stderr",
     "output_type": "stream",
     "text": [
      "/Users/clovispiedallu/Desktop/DAML_project/.venv/lib/python3.12/site-packages/sklearn/neural_network/_multilayer_perceptron.py:690: ConvergenceWarning: Stochastic Optimizer: Maximum iterations (100) reached and the optimization hasn't converged yet.\n",
      "  warnings.warn(\n"
     ]
    },
    {
     "name": "stdout",
     "output_type": "stream",
     "text": [
      "[CV] END alpha=0.01, hidden_layer_sizes=(10, 10), learning_rate_init=0.0001; total time= 1.3min\n"
     ]
    },
    {
     "name": "stderr",
     "output_type": "stream",
     "text": [
      "/Users/clovispiedallu/Desktop/DAML_project/.venv/lib/python3.12/site-packages/sklearn/neural_network/_multilayer_perceptron.py:690: ConvergenceWarning: Stochastic Optimizer: Maximum iterations (100) reached and the optimization hasn't converged yet.\n",
      "  warnings.warn(\n"
     ]
    },
    {
     "name": "stdout",
     "output_type": "stream",
     "text": [
      "[CV] END alpha=0.01, hidden_layer_sizes=(10, 10), learning_rate_init=0.0001; total time= 1.3min\n"
     ]
    },
    {
     "name": "stderr",
     "output_type": "stream",
     "text": [
      "/Users/clovispiedallu/Desktop/DAML_project/.venv/lib/python3.12/site-packages/sklearn/neural_network/_multilayer_perceptron.py:690: ConvergenceWarning: Stochastic Optimizer: Maximum iterations (100) reached and the optimization hasn't converged yet.\n",
      "  warnings.warn(\n"
     ]
    },
    {
     "name": "stdout",
     "output_type": "stream",
     "text": [
      "[CV] END alpha=0.01, hidden_layer_sizes=(10, 10), learning_rate_init=0.0001; total time= 1.2min\n",
      "[CV] END alpha=0.01, hidden_layer_sizes=(10, 10), learning_rate_init=0.1; total time=   9.8s\n",
      "[CV] END alpha=0.01, hidden_layer_sizes=(10, 10), learning_rate_init=0.1; total time=   9.7s\n",
      "[CV] END alpha=0.01, hidden_layer_sizes=(10, 10), learning_rate_init=0.1; total time=   9.3s\n",
      "[CV] END alpha=0.01, hidden_layer_sizes=(10, 10), learning_rate_init=0.01; total time=  46.7s\n"
     ]
    },
    {
     "name": "stderr",
     "output_type": "stream",
     "text": [
      "/Users/clovispiedallu/Desktop/DAML_project/.venv/lib/python3.12/site-packages/sklearn/neural_network/_multilayer_perceptron.py:690: ConvergenceWarning: Stochastic Optimizer: Maximum iterations (100) reached and the optimization hasn't converged yet.\n",
      "  warnings.warn(\n"
     ]
    },
    {
     "name": "stdout",
     "output_type": "stream",
     "text": [
      "[CV] END alpha=0.01, hidden_layer_sizes=(10, 10), learning_rate_init=0.001; total time= 1.3min\n",
      "[CV] END alpha=0.01, hidden_layer_sizes=(10, 10), learning_rate_init=0.01; total time=  59.3s\n",
      "[CV] END alpha=0.01, hidden_layer_sizes=(10, 10), learning_rate_init=0.01; total time=  52.6s\n"
     ]
    },
    {
     "name": "stderr",
     "output_type": "stream",
     "text": [
      "/Users/clovispiedallu/Desktop/DAML_project/.venv/lib/python3.12/site-packages/sklearn/neural_network/_multilayer_perceptron.py:690: ConvergenceWarning: Stochastic Optimizer: Maximum iterations (100) reached and the optimization hasn't converged yet.\n",
      "  warnings.warn(\n"
     ]
    },
    {
     "name": "stdout",
     "output_type": "stream",
     "text": [
      "[CV] END alpha=0.01, hidden_layer_sizes=(10, 10), learning_rate_init=0.001; total time= 1.2min\n"
     ]
    },
    {
     "name": "stderr",
     "output_type": "stream",
     "text": [
      "/Users/clovispiedallu/Desktop/DAML_project/.venv/lib/python3.12/site-packages/sklearn/neural_network/_multilayer_perceptron.py:690: ConvergenceWarning: Stochastic Optimizer: Maximum iterations (100) reached and the optimization hasn't converged yet.\n",
      "  warnings.warn(\n"
     ]
    },
    {
     "name": "stdout",
     "output_type": "stream",
     "text": [
      "[CV] END alpha=0.01, hidden_layer_sizes=(10, 10), learning_rate_init=0.001; total time= 1.2min\n",
      "[CV] END alpha=0.01, hidden_layer_sizes=(100, 100), learning_rate_init=0.01; total time= 1.4min\n",
      "[CV] END alpha=0.01, hidden_layer_sizes=(100, 100), learning_rate_init=0.01; total time= 1.5min\n",
      "[CV] END alpha=0.01, hidden_layer_sizes=(100, 100), learning_rate_init=0.1; total time=  25.0s\n",
      "[CV] END alpha=0.01, hidden_layer_sizes=(100, 100), learning_rate_init=0.1; total time= 1.2min\n",
      "[CV] END alpha=0.01, hidden_layer_sizes=(100, 100), learning_rate_init=0.001; total time= 3.6min\n",
      "[CV] END alpha=0.01, hidden_layer_sizes=(100, 100), learning_rate_init=0.01; total time= 2.0min\n"
     ]
    },
    {
     "name": "stderr",
     "output_type": "stream",
     "text": [
      "/Users/clovispiedallu/Desktop/DAML_project/.venv/lib/python3.12/site-packages/sklearn/neural_network/_multilayer_perceptron.py:690: ConvergenceWarning: Stochastic Optimizer: Maximum iterations (100) reached and the optimization hasn't converged yet.\n",
      "  warnings.warn(\n"
     ]
    },
    {
     "name": "stdout",
     "output_type": "stream",
     "text": [
      "[CV] END alpha=0.01, hidden_layer_sizes=(100, 100), learning_rate_init=0.0001; total time= 4.4min\n"
     ]
    },
    {
     "name": "stderr",
     "output_type": "stream",
     "text": [
      "/Users/clovispiedallu/Desktop/DAML_project/.venv/lib/python3.12/site-packages/sklearn/neural_network/_multilayer_perceptron.py:690: ConvergenceWarning: Stochastic Optimizer: Maximum iterations (100) reached and the optimization hasn't converged yet.\n",
      "  warnings.warn(\n"
     ]
    },
    {
     "name": "stdout",
     "output_type": "stream",
     "text": [
      "[CV] END alpha=0.01, hidden_layer_sizes=(100, 100), learning_rate_init=0.0001; total time= 4.4min\n",
      "[CV] END alpha=0.01, hidden_layer_sizes=(100, 100), learning_rate_init=0.1; total time=  56.2s\n"
     ]
    },
    {
     "name": "stderr",
     "output_type": "stream",
     "text": [
      "/Users/clovispiedallu/Desktop/DAML_project/.venv/lib/python3.12/site-packages/sklearn/neural_network/_multilayer_perceptron.py:690: ConvergenceWarning: Stochastic Optimizer: Maximum iterations (100) reached and the optimization hasn't converged yet.\n",
      "  warnings.warn(\n"
     ]
    },
    {
     "name": "stdout",
     "output_type": "stream",
     "text": [
      "[CV] END alpha=0.01, hidden_layer_sizes=(100, 100), learning_rate_init=0.0001; total time= 4.5min\n"
     ]
    },
    {
     "name": "stderr",
     "output_type": "stream",
     "text": [
      "/Users/clovispiedallu/Desktop/DAML_project/.venv/lib/python3.12/site-packages/sklearn/neural_network/_multilayer_perceptron.py:690: ConvergenceWarning: Stochastic Optimizer: Maximum iterations (100) reached and the optimization hasn't converged yet.\n",
      "  warnings.warn(\n"
     ]
    },
    {
     "name": "stdout",
     "output_type": "stream",
     "text": [
      "[CV] END alpha=0.01, hidden_layer_sizes=(100, 100), learning_rate_init=0.001; total time= 4.5min\n"
     ]
    },
    {
     "name": "stderr",
     "output_type": "stream",
     "text": [
      "/Users/clovispiedallu/Desktop/DAML_project/.venv/lib/python3.12/site-packages/sklearn/neural_network/_multilayer_perceptron.py:690: ConvergenceWarning: Stochastic Optimizer: Maximum iterations (100) reached and the optimization hasn't converged yet.\n",
      "  warnings.warn(\n"
     ]
    },
    {
     "name": "stdout",
     "output_type": "stream",
     "text": [
      "[CV] END alpha=0.01, hidden_layer_sizes=(100, 100), learning_rate_init=0.001; total time= 4.5min\n",
      "[CV] END alpha=0.01, hidden_layer_sizes=(100, 100, 100), learning_rate_init=0.01; total time= 1.4min\n",
      "[CV] END alpha=0.01, hidden_layer_sizes=(100, 100, 100), learning_rate_init=0.01; total time= 2.0min\n",
      "[CV] END alpha=0.01, hidden_layer_sizes=(100, 100, 100), learning_rate_init=0.1; total time=  42.0s\n",
      "[CV] END alpha=0.01, hidden_layer_sizes=(100, 100, 100), learning_rate_init=0.01; total time= 1.3min\n",
      "[CV] END alpha=0.01, hidden_layer_sizes=(100, 100, 100), learning_rate_init=0.1; total time=  46.8s\n",
      "[CV] END alpha=0.01, hidden_layer_sizes=(100, 100, 100), learning_rate_init=0.1; total time=  54.7s\n"
     ]
    },
    {
     "name": "stderr",
     "output_type": "stream",
     "text": [
      "/Users/clovispiedallu/Desktop/DAML_project/.venv/lib/python3.12/site-packages/sklearn/neural_network/_multilayer_perceptron.py:690: ConvergenceWarning: Stochastic Optimizer: Maximum iterations (100) reached and the optimization hasn't converged yet.\n",
      "  warnings.warn(\n"
     ]
    },
    {
     "name": "stdout",
     "output_type": "stream",
     "text": [
      "[CV] END alpha=0.01, hidden_layer_sizes=(100, 100, 100), learning_rate_init=0.001; total time= 5.5min\n"
     ]
    },
    {
     "name": "stderr",
     "output_type": "stream",
     "text": [
      "/Users/clovispiedallu/Desktop/DAML_project/.venv/lib/python3.12/site-packages/sklearn/neural_network/_multilayer_perceptron.py:690: ConvergenceWarning: Stochastic Optimizer: Maximum iterations (100) reached and the optimization hasn't converged yet.\n",
      "  warnings.warn(\n"
     ]
    },
    {
     "name": "stdout",
     "output_type": "stream",
     "text": [
      "[CV] END alpha=0.01, hidden_layer_sizes=(100, 100, 100), learning_rate_init=0.0001; total time= 6.1min\n"
     ]
    },
    {
     "name": "stderr",
     "output_type": "stream",
     "text": [
      "/Users/clovispiedallu/Desktop/DAML_project/.venv/lib/python3.12/site-packages/sklearn/neural_network/_multilayer_perceptron.py:690: ConvergenceWarning: Stochastic Optimizer: Maximum iterations (100) reached and the optimization hasn't converged yet.\n",
      "  warnings.warn(\n"
     ]
    },
    {
     "name": "stdout",
     "output_type": "stream",
     "text": [
      "[CV] END alpha=0.01, hidden_layer_sizes=(100, 100, 100), learning_rate_init=0.0001; total time= 6.1min\n"
     ]
    },
    {
     "name": "stderr",
     "output_type": "stream",
     "text": [
      "/Users/clovispiedallu/Desktop/DAML_project/.venv/lib/python3.12/site-packages/sklearn/neural_network/_multilayer_perceptron.py:690: ConvergenceWarning: Stochastic Optimizer: Maximum iterations (100) reached and the optimization hasn't converged yet.\n",
      "  warnings.warn(\n"
     ]
    },
    {
     "name": "stdout",
     "output_type": "stream",
     "text": [
      "[CV] END alpha=0.01, hidden_layer_sizes=(100, 100, 100), learning_rate_init=0.0001; total time= 5.9min\n"
     ]
    },
    {
     "name": "stderr",
     "output_type": "stream",
     "text": [
      "/Users/clovispiedallu/Desktop/DAML_project/.venv/lib/python3.12/site-packages/sklearn/neural_network/_multilayer_perceptron.py:690: ConvergenceWarning: Stochastic Optimizer: Maximum iterations (100) reached and the optimization hasn't converged yet.\n",
      "  warnings.warn(\n"
     ]
    },
    {
     "name": "stdout",
     "output_type": "stream",
     "text": [
      "[CV] END alpha=0.01, hidden_layer_sizes=(100, 100, 100), learning_rate_init=0.001; total time= 5.8min\n"
     ]
    },
    {
     "name": "stderr",
     "output_type": "stream",
     "text": [
      "/Users/clovispiedallu/Desktop/DAML_project/.venv/lib/python3.12/site-packages/sklearn/neural_network/_multilayer_perceptron.py:690: ConvergenceWarning: Stochastic Optimizer: Maximum iterations (100) reached and the optimization hasn't converged yet.\n",
      "  warnings.warn(\n"
     ]
    },
    {
     "name": "stdout",
     "output_type": "stream",
     "text": [
      "[CV] END alpha=0.01, hidden_layer_sizes=(100, 100, 100), learning_rate_init=0.001; total time= 6.1min\n",
      "Best parameters found: {'alpha': 1e-06, 'hidden_layer_sizes': (100, 100, 100), 'learning_rate_init': 0.001}\n",
      "Best cross-validation score: 0.9302377772706886\n"
     ]
    }
   ],
   "source": [
    "# Define the parameter grid\n",
    "param_grid = {\n",
    "    'hidden_layer_sizes': [(100), (10, 10), (100, 100), (100,100,100)],\n",
    "    'alpha': [0.000001, 0.00001, 0.0001, 0.001, 0.01],\n",
    "    'learning_rate_init': [0.0001,0.001, 0.01, 0.1]\n",
    "}\n",
    "\n",
    "# Initialize the MLPClassifier\n",
    "mlp = MLPClassifier(activation=\"relu\", solver='adam', max_iter=100, random_state=42)\n",
    "\n",
    "# Initialize GridSearchCV\n",
    "grid_search = GridSearchCV(estimator=mlp, param_grid=param_grid, scoring='f1_macro', cv=3, verbose=2, n_jobs=-1)\n",
    "\n",
    "# Perform grid search\n",
    "grid_search.fit(X_train_scaled, y_train.values.ravel())\n",
    "\n",
    "# Print the best parameters and best score\n",
    "print(f\"Best parameters found: {grid_search.best_params_}\")\n",
    "print(f\"Best cross-validation score: {grid_search.best_score_}\")"
   ]
  },
  {
   "cell_type": "markdown",
   "metadata": {},
   "source": [
    "### Choix du modèle \n",
    "\n",
    "Le modèle présentant les meilleures performances est obtenu avec les hyperparamètres suivants : \n",
    "\n",
    "- `hidden_layer_sizes`: (100,100,100)\n",
    "- `alpha`: 0.0000001\n",
    "- `learning_rate_init`: 0.001 (correspond à `learning_rate` car le choix est de le prendre constant)\n",
    "\n",
    "On va maintenant entraîner le modèle avec ces paramètres :"
   ]
  },
  {
   "cell_type": "code",
   "execution_count": 1,
   "metadata": {},
   "outputs": [
    {
     "ename": "NameError",
     "evalue": "name 'grid_search' is not defined",
     "output_type": "error",
     "traceback": [
      "\u001b[0;31m---------------------------------------------------------------------------\u001b[0m",
      "\u001b[0;31mNameError\u001b[0m                                 Traceback (most recent call last)",
      "Cell \u001b[0;32mIn[1], line 2\u001b[0m\n\u001b[1;32m      1\u001b[0m \u001b[38;5;66;03m# Get the best model from grid search\u001b[39;00m\n\u001b[0;32m----> 2\u001b[0m best_model \u001b[38;5;241m=\u001b[39m \u001b[43mgrid_search\u001b[49m\u001b[38;5;241m.\u001b[39mbest_estimator_\n\u001b[1;32m      4\u001b[0m \u001b[38;5;66;03m# Predict on the test set using the best model\u001b[39;00m\n\u001b[1;32m      5\u001b[0m y_test_pred_best \u001b[38;5;241m=\u001b[39m best_model\u001b[38;5;241m.\u001b[39mpredict(X_test_scaled)\n",
      "\u001b[0;31mNameError\u001b[0m: name 'grid_search' is not defined"
     ]
    }
   ],
   "source": [
    "# Get the best model from grid search\n",
    "best_model = grid_search.best_estimator_\n",
    "\n",
    "# Predict on the test set using the best model\n",
    "y_test_pred_best = best_model.predict(X_test_scaled)\n",
    "\n",
    "# Generate classification report for the best model\n",
    "report_best = classification_report(y_test, y_test_pred_best, target_names=list(class_names.values()), zero_division=1)\n",
    "print(f'Classification Report for Best Model:\\n{report_best}')\n",
    "\n",
    "# Generate confusion matrix for the best model\n",
    "conf_matrix_best = confusion_matrix(y_test, y_test_pred_best)\n",
    "\n",
    "# Plot confusion matrix for the best model\n",
    "plt.figure(figsize=(10, 7))\n",
    "sns.heatmap(conf_matrix_best, annot=True, fmt='d', cmap='Blues', xticklabels=list(class_names.values()), yticklabels=list(class_names.values()))\n",
    "plt.xlabel('Predicted')\n",
    "plt.ylabel('Actual')\n",
    "plt.title('Confusion Matrix for Best Model')\n",
    "plt.show()\n"
   ]
  },
  {
   "cell_type": "code",
   "execution_count": 5,
   "metadata": {},
   "outputs": [
    {
     "data": {
      "text/html": [
       "<style>#sk-container-id-1 {\n",
       "  /* Definition of color scheme common for light and dark mode */\n",
       "  --sklearn-color-text: black;\n",
       "  --sklearn-color-line: gray;\n",
       "  /* Definition of color scheme for unfitted estimators */\n",
       "  --sklearn-color-unfitted-level-0: #fff5e6;\n",
       "  --sklearn-color-unfitted-level-1: #f6e4d2;\n",
       "  --sklearn-color-unfitted-level-2: #ffe0b3;\n",
       "  --sklearn-color-unfitted-level-3: chocolate;\n",
       "  /* Definition of color scheme for fitted estimators */\n",
       "  --sklearn-color-fitted-level-0: #f0f8ff;\n",
       "  --sklearn-color-fitted-level-1: #d4ebff;\n",
       "  --sklearn-color-fitted-level-2: #b3dbfd;\n",
       "  --sklearn-color-fitted-level-3: cornflowerblue;\n",
       "\n",
       "  /* Specific color for light theme */\n",
       "  --sklearn-color-text-on-default-background: var(--sg-text-color, var(--theme-code-foreground, var(--jp-content-font-color1, black)));\n",
       "  --sklearn-color-background: var(--sg-background-color, var(--theme-background, var(--jp-layout-color0, white)));\n",
       "  --sklearn-color-border-box: var(--sg-text-color, var(--theme-code-foreground, var(--jp-content-font-color1, black)));\n",
       "  --sklearn-color-icon: #696969;\n",
       "\n",
       "  @media (prefers-color-scheme: dark) {\n",
       "    /* Redefinition of color scheme for dark theme */\n",
       "    --sklearn-color-text-on-default-background: var(--sg-text-color, var(--theme-code-foreground, var(--jp-content-font-color1, white)));\n",
       "    --sklearn-color-background: var(--sg-background-color, var(--theme-background, var(--jp-layout-color0, #111)));\n",
       "    --sklearn-color-border-box: var(--sg-text-color, var(--theme-code-foreground, var(--jp-content-font-color1, white)));\n",
       "    --sklearn-color-icon: #878787;\n",
       "  }\n",
       "}\n",
       "\n",
       "#sk-container-id-1 {\n",
       "  color: var(--sklearn-color-text);\n",
       "}\n",
       "\n",
       "#sk-container-id-1 pre {\n",
       "  padding: 0;\n",
       "}\n",
       "\n",
       "#sk-container-id-1 input.sk-hidden--visually {\n",
       "  border: 0;\n",
       "  clip: rect(1px 1px 1px 1px);\n",
       "  clip: rect(1px, 1px, 1px, 1px);\n",
       "  height: 1px;\n",
       "  margin: -1px;\n",
       "  overflow: hidden;\n",
       "  padding: 0;\n",
       "  position: absolute;\n",
       "  width: 1px;\n",
       "}\n",
       "\n",
       "#sk-container-id-1 div.sk-dashed-wrapped {\n",
       "  border: 1px dashed var(--sklearn-color-line);\n",
       "  margin: 0 0.4em 0.5em 0.4em;\n",
       "  box-sizing: border-box;\n",
       "  padding-bottom: 0.4em;\n",
       "  background-color: var(--sklearn-color-background);\n",
       "}\n",
       "\n",
       "#sk-container-id-1 div.sk-container {\n",
       "  /* jupyter's `normalize.less` sets `[hidden] { display: none; }`\n",
       "     but bootstrap.min.css set `[hidden] { display: none !important; }`\n",
       "     so we also need the `!important` here to be able to override the\n",
       "     default hidden behavior on the sphinx rendered scikit-learn.org.\n",
       "     See: https://github.com/scikit-learn/scikit-learn/issues/21755 */\n",
       "  display: inline-block !important;\n",
       "  position: relative;\n",
       "}\n",
       "\n",
       "#sk-container-id-1 div.sk-text-repr-fallback {\n",
       "  display: none;\n",
       "}\n",
       "\n",
       "div.sk-parallel-item,\n",
       "div.sk-serial,\n",
       "div.sk-item {\n",
       "  /* draw centered vertical line to link estimators */\n",
       "  background-image: linear-gradient(var(--sklearn-color-text-on-default-background), var(--sklearn-color-text-on-default-background));\n",
       "  background-size: 2px 100%;\n",
       "  background-repeat: no-repeat;\n",
       "  background-position: center center;\n",
       "}\n",
       "\n",
       "/* Parallel-specific style estimator block */\n",
       "\n",
       "#sk-container-id-1 div.sk-parallel-item::after {\n",
       "  content: \"\";\n",
       "  width: 100%;\n",
       "  border-bottom: 2px solid var(--sklearn-color-text-on-default-background);\n",
       "  flex-grow: 1;\n",
       "}\n",
       "\n",
       "#sk-container-id-1 div.sk-parallel {\n",
       "  display: flex;\n",
       "  align-items: stretch;\n",
       "  justify-content: center;\n",
       "  background-color: var(--sklearn-color-background);\n",
       "  position: relative;\n",
       "}\n",
       "\n",
       "#sk-container-id-1 div.sk-parallel-item {\n",
       "  display: flex;\n",
       "  flex-direction: column;\n",
       "}\n",
       "\n",
       "#sk-container-id-1 div.sk-parallel-item:first-child::after {\n",
       "  align-self: flex-end;\n",
       "  width: 50%;\n",
       "}\n",
       "\n",
       "#sk-container-id-1 div.sk-parallel-item:last-child::after {\n",
       "  align-self: flex-start;\n",
       "  width: 50%;\n",
       "}\n",
       "\n",
       "#sk-container-id-1 div.sk-parallel-item:only-child::after {\n",
       "  width: 0;\n",
       "}\n",
       "\n",
       "/* Serial-specific style estimator block */\n",
       "\n",
       "#sk-container-id-1 div.sk-serial {\n",
       "  display: flex;\n",
       "  flex-direction: column;\n",
       "  align-items: center;\n",
       "  background-color: var(--sklearn-color-background);\n",
       "  padding-right: 1em;\n",
       "  padding-left: 1em;\n",
       "}\n",
       "\n",
       "\n",
       "/* Toggleable style: style used for estimator/Pipeline/ColumnTransformer box that is\n",
       "clickable and can be expanded/collapsed.\n",
       "- Pipeline and ColumnTransformer use this feature and define the default style\n",
       "- Estimators will overwrite some part of the style using the `sk-estimator` class\n",
       "*/\n",
       "\n",
       "/* Pipeline and ColumnTransformer style (default) */\n",
       "\n",
       "#sk-container-id-1 div.sk-toggleable {\n",
       "  /* Default theme specific background. It is overwritten whether we have a\n",
       "  specific estimator or a Pipeline/ColumnTransformer */\n",
       "  background-color: var(--sklearn-color-background);\n",
       "}\n",
       "\n",
       "/* Toggleable label */\n",
       "#sk-container-id-1 label.sk-toggleable__label {\n",
       "  cursor: pointer;\n",
       "  display: block;\n",
       "  width: 100%;\n",
       "  margin-bottom: 0;\n",
       "  padding: 0.5em;\n",
       "  box-sizing: border-box;\n",
       "  text-align: center;\n",
       "}\n",
       "\n",
       "#sk-container-id-1 label.sk-toggleable__label-arrow:before {\n",
       "  /* Arrow on the left of the label */\n",
       "  content: \"▸\";\n",
       "  float: left;\n",
       "  margin-right: 0.25em;\n",
       "  color: var(--sklearn-color-icon);\n",
       "}\n",
       "\n",
       "#sk-container-id-1 label.sk-toggleable__label-arrow:hover:before {\n",
       "  color: var(--sklearn-color-text);\n",
       "}\n",
       "\n",
       "/* Toggleable content - dropdown */\n",
       "\n",
       "#sk-container-id-1 div.sk-toggleable__content {\n",
       "  max-height: 0;\n",
       "  max-width: 0;\n",
       "  overflow: hidden;\n",
       "  text-align: left;\n",
       "  /* unfitted */\n",
       "  background-color: var(--sklearn-color-unfitted-level-0);\n",
       "}\n",
       "\n",
       "#sk-container-id-1 div.sk-toggleable__content.fitted {\n",
       "  /* fitted */\n",
       "  background-color: var(--sklearn-color-fitted-level-0);\n",
       "}\n",
       "\n",
       "#sk-container-id-1 div.sk-toggleable__content pre {\n",
       "  margin: 0.2em;\n",
       "  border-radius: 0.25em;\n",
       "  color: var(--sklearn-color-text);\n",
       "  /* unfitted */\n",
       "  background-color: var(--sklearn-color-unfitted-level-0);\n",
       "}\n",
       "\n",
       "#sk-container-id-1 div.sk-toggleable__content.fitted pre {\n",
       "  /* unfitted */\n",
       "  background-color: var(--sklearn-color-fitted-level-0);\n",
       "}\n",
       "\n",
       "#sk-container-id-1 input.sk-toggleable__control:checked~div.sk-toggleable__content {\n",
       "  /* Expand drop-down */\n",
       "  max-height: 200px;\n",
       "  max-width: 100%;\n",
       "  overflow: auto;\n",
       "}\n",
       "\n",
       "#sk-container-id-1 input.sk-toggleable__control:checked~label.sk-toggleable__label-arrow:before {\n",
       "  content: \"▾\";\n",
       "}\n",
       "\n",
       "/* Pipeline/ColumnTransformer-specific style */\n",
       "\n",
       "#sk-container-id-1 div.sk-label input.sk-toggleable__control:checked~label.sk-toggleable__label {\n",
       "  color: var(--sklearn-color-text);\n",
       "  background-color: var(--sklearn-color-unfitted-level-2);\n",
       "}\n",
       "\n",
       "#sk-container-id-1 div.sk-label.fitted input.sk-toggleable__control:checked~label.sk-toggleable__label {\n",
       "  background-color: var(--sklearn-color-fitted-level-2);\n",
       "}\n",
       "\n",
       "/* Estimator-specific style */\n",
       "\n",
       "/* Colorize estimator box */\n",
       "#sk-container-id-1 div.sk-estimator input.sk-toggleable__control:checked~label.sk-toggleable__label {\n",
       "  /* unfitted */\n",
       "  background-color: var(--sklearn-color-unfitted-level-2);\n",
       "}\n",
       "\n",
       "#sk-container-id-1 div.sk-estimator.fitted input.sk-toggleable__control:checked~label.sk-toggleable__label {\n",
       "  /* fitted */\n",
       "  background-color: var(--sklearn-color-fitted-level-2);\n",
       "}\n",
       "\n",
       "#sk-container-id-1 div.sk-label label.sk-toggleable__label,\n",
       "#sk-container-id-1 div.sk-label label {\n",
       "  /* The background is the default theme color */\n",
       "  color: var(--sklearn-color-text-on-default-background);\n",
       "}\n",
       "\n",
       "/* On hover, darken the color of the background */\n",
       "#sk-container-id-1 div.sk-label:hover label.sk-toggleable__label {\n",
       "  color: var(--sklearn-color-text);\n",
       "  background-color: var(--sklearn-color-unfitted-level-2);\n",
       "}\n",
       "\n",
       "/* Label box, darken color on hover, fitted */\n",
       "#sk-container-id-1 div.sk-label.fitted:hover label.sk-toggleable__label.fitted {\n",
       "  color: var(--sklearn-color-text);\n",
       "  background-color: var(--sklearn-color-fitted-level-2);\n",
       "}\n",
       "\n",
       "/* Estimator label */\n",
       "\n",
       "#sk-container-id-1 div.sk-label label {\n",
       "  font-family: monospace;\n",
       "  font-weight: bold;\n",
       "  display: inline-block;\n",
       "  line-height: 1.2em;\n",
       "}\n",
       "\n",
       "#sk-container-id-1 div.sk-label-container {\n",
       "  text-align: center;\n",
       "}\n",
       "\n",
       "/* Estimator-specific */\n",
       "#sk-container-id-1 div.sk-estimator {\n",
       "  font-family: monospace;\n",
       "  border: 1px dotted var(--sklearn-color-border-box);\n",
       "  border-radius: 0.25em;\n",
       "  box-sizing: border-box;\n",
       "  margin-bottom: 0.5em;\n",
       "  /* unfitted */\n",
       "  background-color: var(--sklearn-color-unfitted-level-0);\n",
       "}\n",
       "\n",
       "#sk-container-id-1 div.sk-estimator.fitted {\n",
       "  /* fitted */\n",
       "  background-color: var(--sklearn-color-fitted-level-0);\n",
       "}\n",
       "\n",
       "/* on hover */\n",
       "#sk-container-id-1 div.sk-estimator:hover {\n",
       "  /* unfitted */\n",
       "  background-color: var(--sklearn-color-unfitted-level-2);\n",
       "}\n",
       "\n",
       "#sk-container-id-1 div.sk-estimator.fitted:hover {\n",
       "  /* fitted */\n",
       "  background-color: var(--sklearn-color-fitted-level-2);\n",
       "}\n",
       "\n",
       "/* Specification for estimator info (e.g. \"i\" and \"?\") */\n",
       "\n",
       "/* Common style for \"i\" and \"?\" */\n",
       "\n",
       ".sk-estimator-doc-link,\n",
       "a:link.sk-estimator-doc-link,\n",
       "a:visited.sk-estimator-doc-link {\n",
       "  float: right;\n",
       "  font-size: smaller;\n",
       "  line-height: 1em;\n",
       "  font-family: monospace;\n",
       "  background-color: var(--sklearn-color-background);\n",
       "  border-radius: 1em;\n",
       "  height: 1em;\n",
       "  width: 1em;\n",
       "  text-decoration: none !important;\n",
       "  margin-left: 1ex;\n",
       "  /* unfitted */\n",
       "  border: var(--sklearn-color-unfitted-level-1) 1pt solid;\n",
       "  color: var(--sklearn-color-unfitted-level-1);\n",
       "}\n",
       "\n",
       ".sk-estimator-doc-link.fitted,\n",
       "a:link.sk-estimator-doc-link.fitted,\n",
       "a:visited.sk-estimator-doc-link.fitted {\n",
       "  /* fitted */\n",
       "  border: var(--sklearn-color-fitted-level-1) 1pt solid;\n",
       "  color: var(--sklearn-color-fitted-level-1);\n",
       "}\n",
       "\n",
       "/* On hover */\n",
       "div.sk-estimator:hover .sk-estimator-doc-link:hover,\n",
       ".sk-estimator-doc-link:hover,\n",
       "div.sk-label-container:hover .sk-estimator-doc-link:hover,\n",
       ".sk-estimator-doc-link:hover {\n",
       "  /* unfitted */\n",
       "  background-color: var(--sklearn-color-unfitted-level-3);\n",
       "  color: var(--sklearn-color-background);\n",
       "  text-decoration: none;\n",
       "}\n",
       "\n",
       "div.sk-estimator.fitted:hover .sk-estimator-doc-link.fitted:hover,\n",
       ".sk-estimator-doc-link.fitted:hover,\n",
       "div.sk-label-container:hover .sk-estimator-doc-link.fitted:hover,\n",
       ".sk-estimator-doc-link.fitted:hover {\n",
       "  /* fitted */\n",
       "  background-color: var(--sklearn-color-fitted-level-3);\n",
       "  color: var(--sklearn-color-background);\n",
       "  text-decoration: none;\n",
       "}\n",
       "\n",
       "/* Span, style for the box shown on hovering the info icon */\n",
       ".sk-estimator-doc-link span {\n",
       "  display: none;\n",
       "  z-index: 9999;\n",
       "  position: relative;\n",
       "  font-weight: normal;\n",
       "  right: .2ex;\n",
       "  padding: .5ex;\n",
       "  margin: .5ex;\n",
       "  width: min-content;\n",
       "  min-width: 20ex;\n",
       "  max-width: 50ex;\n",
       "  color: var(--sklearn-color-text);\n",
       "  box-shadow: 2pt 2pt 4pt #999;\n",
       "  /* unfitted */\n",
       "  background: var(--sklearn-color-unfitted-level-0);\n",
       "  border: .5pt solid var(--sklearn-color-unfitted-level-3);\n",
       "}\n",
       "\n",
       ".sk-estimator-doc-link.fitted span {\n",
       "  /* fitted */\n",
       "  background: var(--sklearn-color-fitted-level-0);\n",
       "  border: var(--sklearn-color-fitted-level-3);\n",
       "}\n",
       "\n",
       ".sk-estimator-doc-link:hover span {\n",
       "  display: block;\n",
       "}\n",
       "\n",
       "/* \"?\"-specific style due to the `<a>` HTML tag */\n",
       "\n",
       "#sk-container-id-1 a.estimator_doc_link {\n",
       "  float: right;\n",
       "  font-size: 1rem;\n",
       "  line-height: 1em;\n",
       "  font-family: monospace;\n",
       "  background-color: var(--sklearn-color-background);\n",
       "  border-radius: 1rem;\n",
       "  height: 1rem;\n",
       "  width: 1rem;\n",
       "  text-decoration: none;\n",
       "  /* unfitted */\n",
       "  color: var(--sklearn-color-unfitted-level-1);\n",
       "  border: var(--sklearn-color-unfitted-level-1) 1pt solid;\n",
       "}\n",
       "\n",
       "#sk-container-id-1 a.estimator_doc_link.fitted {\n",
       "  /* fitted */\n",
       "  border: var(--sklearn-color-fitted-level-1) 1pt solid;\n",
       "  color: var(--sklearn-color-fitted-level-1);\n",
       "}\n",
       "\n",
       "/* On hover */\n",
       "#sk-container-id-1 a.estimator_doc_link:hover {\n",
       "  /* unfitted */\n",
       "  background-color: var(--sklearn-color-unfitted-level-3);\n",
       "  color: var(--sklearn-color-background);\n",
       "  text-decoration: none;\n",
       "}\n",
       "\n",
       "#sk-container-id-1 a.estimator_doc_link.fitted:hover {\n",
       "  /* fitted */\n",
       "  background-color: var(--sklearn-color-fitted-level-3);\n",
       "}\n",
       "</style><div id=\"sk-container-id-1\" class=\"sk-top-container\"><div class=\"sk-text-repr-fallback\"><pre>MLPClassifier(alpha=1e-06, hidden_layer_sizes=(100, 100, 100), random_state=42)</pre><b>In a Jupyter environment, please rerun this cell to show the HTML representation or trust the notebook. <br />On GitHub, the HTML representation is unable to render, please try loading this page with nbviewer.org.</b></div><div class=\"sk-container\" hidden><div class=\"sk-item\"><div class=\"sk-estimator fitted sk-toggleable\"><input class=\"sk-toggleable__control sk-hidden--visually\" id=\"sk-estimator-id-1\" type=\"checkbox\" checked><label for=\"sk-estimator-id-1\" class=\"sk-toggleable__label fitted sk-toggleable__label-arrow fitted\">&nbsp;&nbsp;MLPClassifier<a class=\"sk-estimator-doc-link fitted\" rel=\"noreferrer\" target=\"_blank\" href=\"https://scikit-learn.org/1.5/modules/generated/sklearn.neural_network.MLPClassifier.html\">?<span>Documentation for MLPClassifier</span></a><span class=\"sk-estimator-doc-link fitted\">i<span>Fitted</span></span></label><div class=\"sk-toggleable__content fitted\"><pre>MLPClassifier(alpha=1e-06, hidden_layer_sizes=(100, 100, 100), random_state=42)</pre></div> </div></div></div></div>"
      ],
      "text/plain": [
       "MLPClassifier(alpha=1e-06, hidden_layer_sizes=(100, 100, 100), random_state=42)"
      ]
     },
     "execution_count": 5,
     "metadata": {},
     "output_type": "execute_result"
    }
   ],
   "source": [
    "\n",
    "# Define the MLPClassifier model\n",
    "mlp = MLPClassifier(hidden_layer_sizes=(100, 100, 100),\n",
    "                    learning_rate_init=0.001,\n",
    "                    alpha=1e-6,\n",
    "                    activation=\"relu\",\n",
    "                    solver='adam', \n",
    "                    random_state=42, \n",
    "                    max_iter=100\n",
    "                    )\n",
    "\n",
    "# Train the model\n",
    "mlp.fit(X_train_scaled, y_train.values.ravel())\n"
   ]
  },
  {
   "cell_type": "markdown",
   "metadata": {},
   "source": [
    "### Évaluation du modèle fine-tuné sur le dataset de validation"
   ]
  },
  {
   "cell_type": "code",
   "execution_count": 11,
   "metadata": {},
   "outputs": [
    {
     "name": "stdout",
     "output_type": "stream",
     "text": [
      "Classification Report Best Model:\n",
      "                 precision    recall  f1-score   support\n",
      "\n",
      "Nothing in hand       1.00      1.00      1.00     82510\n",
      "       One pair       1.00      1.00      1.00     69121\n",
      "      Two pairs       1.00      1.00      1.00      7799\n",
      "Three of a kind       1.00      1.00      1.00      3338\n",
      "       Straight       0.95      1.00      0.97       620\n",
      "          Flush       1.00      1.00      1.00       342\n",
      "     Full house       1.00      1.00      1.00       235\n",
      " Four of a kind       1.00      1.00      1.00        34\n",
      " Straight flush       0.50      1.00      0.67         1\n",
      "    Royal flush       1.00      0.00      0.00         2\n",
      "\n",
      "       accuracy                           1.00    164002\n",
      "      macro avg       0.94      0.90      0.86    164002\n",
      "   weighted avg       1.00      1.00      1.00    164002\n",
      "\n"
     ]
    },
    {
     "data": {
      "image/png": "[encoded data removed]",
      "text/plain": [
       "<Figure size 1000x700 with 2 Axes>"
      ]
     },
     "metadata": {},
     "output_type": "display_data"
    }
   ],
   "source": [
    "# Predict on the test set\n",
    "y_val_pred = mlp.predict(X_val_scaled)\n",
    "\n",
    "# Generate classification report\n",
    "report = classification_report(y_val, y_val_pred, target_names=list(class_names.values()), zero_division=1)\n",
    "print(f'Classification Report Best Model:\\n{report}')\n",
    "\n",
    "# Generate normalized confusion matrix\n",
    "conf_matrix = confusion_matrix(y_val, y_val_pred, \n",
    "                               normalize='true'\n",
    "                               )\n",
    "\n",
    "# Plot normalized confusion matrix\n",
    "plt.figure(figsize=(10, 7))\n",
    "sns.heatmap(conf_matrix, annot=True, fmt='.2f', cmap='Blues', xticklabels=list(class_names.values()), yticklabels=list(class_names.values()))\n",
    "plt.xlabel('Predicted')\n",
    "plt.ylabel('Actual')\n",
    "plt.title('Normalized Confusion Matrix Best Model')\n",
    "plt.show()"
   ]
  },
  {
   "cell_type": "markdown",
   "metadata": {},
   "source": [
    "\n",
    "### Remarque sur les premiers résultats\n",
    "---\n",
    "\n",
    "Notre modèle peu robuste pour classifier les mains rares comme la royale flush, notamment car la donnée est semble inégalement distribuée. En effet on observe :\n"
   ]
  },
  {
   "cell_type": "code",
   "execution_count": 12,
   "metadata": {},
   "outputs": [
    {
     "name": "stdout",
     "output_type": "stream",
     "text": [
      "Poids de la classe 'Nothing in hand': 50.12%\n",
      "Poids de la classe 'One pair': 42.25%\n",
      "Poids du reste: 7.63%\n"
     ]
    }
   ],
   "source": [
    "# Calcul de la proportion des classes 0 et 1 dans le dataset complet\n",
    "class_counts = y['CLASS'].value_counts(normalize=True)\n",
    "poids_classe_0 = class_counts[0] * 100\n",
    "poids_classe_1 = class_counts[1] * 100\n",
    "poids_reste = 100 - poids_classe_0 - poids_classe_1\n",
    "\n",
    "print(f\"Poids de la classe 'Nothing in hand': {poids_classe_0:.2f}%\")\n",
    "print(f\"Poids de la classe 'One pair': {poids_classe_1:.2f}%\")\n",
    "print(f\"Poids du reste: {poids_reste:.2f}%\")"
   ]
  },
  {
   "cell_type": "markdown",
   "metadata": {},
   "source": [
    "Pour contourner ce problème, essayons de rajouter artificiellement des données de classes sous-représentées dans les données d'entraînement"
   ]
  },
  {
   "cell_type": "markdown",
   "metadata": {},
   "source": [
    "Essayons désormais d'appliquer la transformation linéaire suggérée dans l'article associé. Elle vise à réduire la dépendance du modèle à l'ordre des cartes et fait plutôt apparaître les données caractéristiques d'une main de valeur (nombre de carte de la même couleur, cartes de valeur successives)\n",
    "\n",
    "---"
   ]
  }
 ],
 "metadata": {
  "kernelspec": {
   "display_name": ".venv",
   "language": "python",
   "name": "python3"
  },
  "language_info": {
   "codemirror_mode": {
    "name": "ipython",
    "version": 3
   },
   "file_extension": ".py",
   "mimetype": "text/x-python",
   "name": "python",
   "nbconvert_exporter": "python",
   "pygments_lexer": "ipython3",
   "version": "3.12.6"
  }
 },
 "nbformat": 4,
 "nbformat_minor": 2
}
